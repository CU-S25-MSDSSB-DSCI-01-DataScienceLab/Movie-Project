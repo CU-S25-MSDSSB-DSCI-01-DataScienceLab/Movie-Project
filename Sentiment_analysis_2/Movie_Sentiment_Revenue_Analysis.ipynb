{
 "cells": [
  {
   "cell_type": "markdown",
   "metadata": {},
   "source": [
    "# Movie Revenue Sentiment Analysis\n",
    "\n",
    "This notebook analyzes the relationship between audience sentiment (derived from IMDb reviews) and movie box office revenue. \n",
    "We will perform the following steps:\n",
    "1. Load and preprocess movie metadata (TMDb, OMDb) and box office data.\n",
    "2. Scrape IMDb reviews for selected movies.\n",
    "3. Perform VADER sentiment analysis on the scraped reviews.\n",
    "4. Merge sentiment scores with financial data.\n",
    "5. Analyze and visualize the correlation between sentiment and revenue.\n",
    "6. Build a simple linear regression model (for illustrative purposes due to small sample size)."
   ]
  },
  {
   "cell_type": "markdown",
   "metadata": {},
   "source": [
    "## 1. Setup and Library Imports"
   ]
  },
  {
   "cell_type": "code",
   "execution_count": 3,
   "metadata": {},
   "outputs": [],
   "source": [
    "import pandas as pd\n",
    "import requests\n",
    "import json\n",
    "import re\n",
    "import os\n",
    "import nltk\n",
    "from bs4 import BeautifulSoup\n",
    "from nltk.sentiment.vader import SentimentIntensityAnalyzer\n",
    "import matplotlib.pyplot as plt\n",
    "import seaborn as sns\n",
    "from sklearn.linear_model import LinearRegression\n",
    "from sklearn.model_selection import train_test_split\n",
    "from sklearn.metrics import mean_squared_error, r2_score\n",
    "\n",
    "# Ensure VADER lexicon is downloaded (run once if needed)\n",
    "# nltk.download('vader_lexicon')"
   ]
  },
  {
   "cell_type": "markdown",
   "metadata": {},
   "source": [
    "## 2. Data Loading and Preprocessing\n",
    "\n",
    "We start by loading the movie metadata from TMDb, OMDb (previously fetched and saved as `movie_data.csv`), and Box Office Mojo data. These datasets are then cleaned and merged."
   ]
  },
  {
   "cell_type": "code",
   "execution_count": 7,
   "metadata": {},
   "outputs": [
    {
     "ename": "SyntaxError",
     "evalue": "unterminated string literal (detected at line 16) (3898188527.py, line 16)",
     "output_type": "error",
     "traceback": [
      "  \u001b[36mCell\u001b[39m\u001b[36m \u001b[39m\u001b[32mIn[7]\u001b[39m\u001b[32m, line 16\u001b[39m\n\u001b[31m    \u001b[39m\u001b[31mprint(\"\u001b[39m\n          ^\n\u001b[31mSyntaxError\u001b[39m\u001b[31m:\u001b[39m unterminated string literal (detected at line 16)\n"
     ]
    }
   ],
   "source": [
    "# Define file paths (assuming files are in the same directory as the notebook)\n",
    "tmdb_data_path = \"tmdb_movie_data.csv\"\n",
    "omdb_data_path = \"movie_data.csv\" # This is the OMDb data from a previous project phase\n",
    "box_office_mojo_path = \"box_office_data.csv\"\n",
    "output_merged_path = \"merged_movie_data.csv\"\n",
    "\n",
    "# Load datasets\n",
    "df_tmdb = pd.read_csv(tmdb_data_path)\n",
    "df_omdb = pd.read_csv(omdb_data_path)\n",
    "df_box_office_mojo = pd.read_csv(box_office_mojo_path)\n",
    "\n",
    "print(\"--- TMDb Data Info ---\")\n",
    "df_tmdb.info()\n",
    "print(df_tmdb.head())\n",
    "\n",
    "print(\"\n",
    "--- OMDb Data (movie_data.csv) Info ---\")\n",
    "df_omdb.info()\n",
    "print(df_omdb.head())\n",
    "\n",
    "print(\"\n",
    "--- Box Office Mojo Data Info ---\")\n",
    "df_box_office_mojo.info()\n",
    "print(df_box_office_mojo.head())"
   ]
  },
  {
   "cell_type": "code",
   "execution_count": null,
   "metadata": {},
   "outputs": [],
   "source": [
    "# Standardize title columns for merging\n",
    "df_tmdb.rename(columns={\"title\": \"Title\"}, inplace=True)\n",
    "df_box_office_mojo.rename(columns={\"title\": \"Title\"}, inplace=True)\n",
    "\n",
    "# Select and rename columns from TMDb data\n",
    "df_tmdb_processed = df_tmdb[[\"Title\", \"revenue\", \"budget\", \"vote_average\", \"vote_count\", \"release_date\", \"genres\"]].copy()\n",
    "df_tmdb_processed.rename(columns={\n",
    "    \"revenue\": \"TMDb_Revenue\",\n",
    "    \"budget\": \"TMDb_Budget\",\n",
    "    \"vote_average\": \"TMDb_VoteAverage\",\n",
    "    \"vote_count\": \"TMDb_VoteCount\",\n",
    "    \"release_date\": \"TMDb_ReleaseDate\",\n",
    "    \"genres\": \"TMDb_Genres\"\n",
    "}, inplace=True)\n",
    "\n",
    "# Process OMDb data (df_omdb)\n",
    "def parse_omdb_ratings(ratings_str):\n",
    "    try:\n",
    "        ratings_list = eval(ratings_str) # Be cautious with eval on untrusted data\n",
    "        parsed = {}\n",
    "        for item in ratings_list:\n",
    "            if item[\"Source\"] == \"Internet Movie Database\":\n",
    "                parsed[\"OMDb_IMDb_Rating\"] = item[\"Value\"].split(\"/\")[0]\n",
    "            elif item[\"Source\"] == \"Rotten Tomatoes\":\n",
    "                parsed[\"OMDb_RottenTomatoes_Rating\"] = item[\"Value\"]\n",
    "            elif item[\"Source\"] == \"Metacritic\":\n",
    "                parsed[\"OMDb_Metacritic_Rating\"] = item[\"Value\"].split(\"/\")[0]\n",
    "        return pd.Series(parsed)\n",
    "    except:\n",
    "        return pd.Series({ })\n",
    "\n",
    "ratings_extracted = df_omdb[\"Ratings\"].apply(parse_omdb_ratings)\n",
    "df_omdb_processed = pd.concat([df_omdb[[\"Title\", \"Year\", \"Rated\", \"Runtime\", \"Genre\", \"Director\", \"Actors\", \"Plot\", \"Language\", \"Metascore\", \"imdbRating\", \"imdbVotes\"]], ratings_extracted], axis=1)\n",
    "\n",
    "df_omdb_processed[\"imdbVotes\"] = df_omdb_processed[\"imdbVotes\"].astype(str).str.replace(\",\", \"\", regex=False).fillna(0).astype(int)\n",
    "df_omdb_processed.rename(columns={\n",
    "    \"Year\": \"OMDb_Year\", \"Rated\": \"OMDb_Rated\", \"Runtime\": \"OMDb_Runtime\", \"Genre\": \"OMDb_Genre\",\n",
    "    \"Director\": \"OMDb_Director\", \"Actors\": \"OMDb_Actors\", \"Plot\": \"OMDb_Plot\", \"Language\": \"OMDb_Language\",\n",
    "    \"Metascore\": \"OMDb_Metascore_Direct\", \"imdbRating\": \"OMDb_imdbRating_Direct\"\n",
    "}, inplace=True)\n",
    "\n",
    "for col in [\"OMDb_IMDb_Rating\", \"OMDb_Metacritic_Rating\"]:\n",
    "    if col in df_omdb_processed.columns:\n",
    "        df_omdb_processed[col] = pd.to_numeric(df_omdb_processed[col], errors='coerce')\n",
    "if \"OMDb_RottenTomatoes_Rating\" in df_omdb_processed.columns:\n",
    "     df_omdb_processed[\"OMDb_RottenTomatoes_Rating\"] = pd.to_numeric(df_omdb_processed[\"OMDb_RottenTomatoes_Rating\"].str.replace(\"%\", \"\", regex=False), errors='coerce') / 100.0\n",
    "\n",
    "df_box_office_mojo.rename(columns={\"worldwide_gross\": \"BoxOfficeMojo_WorldwideGross\"}, inplace=True)\n",
    "\n",
    "# Merge DataFrames\n",
    "df_merged = df_tmdb_processed.copy()\n",
    "df_merged = pd.merge(df_merged, df_omdb_processed, on=\"Title\", how=\"left\")\n",
    "df_merged = pd.merge(df_merged, df_box_office_mojo, on=\"Title\", how=\"left\")\n",
    "\n",
    "# Define Final_Revenue\n",
    "if 'BoxOfficeMojo_WorldwideGross' in df_merged.columns:\n",
    "    df_merged['Final_Revenue'] = df_merged['BoxOfficeMojo_WorldwideGross']\n",
    "elif 'TMDb_Revenue' in df_merged.columns:\n",
    "    df_merged['Final_Revenue'] = df_merged['TMDb_Revenue']\n",
    "else:\n",
    "    df_merged['Final_Revenue'] = None\n",
    "\n",
    "df_merged.to_csv(output_merged_path, index=False)\n",
    "print(f\"\n",
    "Merged data saved to {output_merged_path}\")\n",
    "print(\"\n",
    "--- Merged Data Info ---\")\n",
    "df_merged.info()\n",
    "print(df_merged[[\"Title\", \"TMDb_Revenue\", \"BoxOfficeMojo_WorldwideGross\", \"Final_Revenue\"]].head())"
   ]
  },
  {
   "cell_type": "markdown",
   "metadata": {},
   "source": [
    "## 3. IMDb Review Scraping\n",
    "\n",
    "The following code scrapes IMDb reviews for the selected movies. The reviews are saved to `imdb_reviews.txt`."
   ]
  },
  {
   "cell_type": "code",
   "execution_count": 9,
   "metadata": {},
   "outputs": [
    {
     "ename": "SyntaxError",
     "evalue": "unterminated f-string literal (detected at line 28) (3974202716.py, line 28)",
     "output_type": "error",
     "traceback": [
      "  \u001b[36mCell\u001b[39m\u001b[36m \u001b[39m\u001b[32mIn[9]\u001b[39m\u001b[32m, line 28\u001b[39m\n\u001b[31m    \u001b[39m\u001b[31mf.write(f\"\u001b[39m\n            ^\n\u001b[31mSyntaxError\u001b[39m\u001b[31m:\u001b[39m unterminated f-string literal (detected at line 28)\n"
     ]
    }
   ],
   "source": [
    "def scrape_imdb_reviews_notebook(title_ids, output_dir=\".\"):\n",
    "    os.makedirs(output_dir, exist_ok=True)\n",
    "    headers = {\n",
    "        'User-Agent': 'Mozilla/5.0 (Windows NT 10.0; Win64; x64) AppleWebKit/537.36 (KHTML, like Gecko) Chrome/129.0.0.0 Safari/537.36',\n",
    "        'Accept-Language': 'en-US,en;q=0.9'\n",
    "    }\n",
    "    movies_to_scrape = {\n",
    "        'Barbie': title_ids.get('Barbie', 'tt1517268'),\n",
    "        'Oppenheimer': title_ids.get('Oppenheimer', 'tt15398776'),\n",
    "        'The Marvels': title_ids.get('The Marvels', 'tt10676048'),\n",
    "        'Dune: Part Two': title_ids.get('Dune: Part Two', 'tt15239678')\n",
    "    }\n",
    "    reviews_file = os.path.join(output_dir, 'imdb_reviews.txt')\n",
    "    # Clear file if it exists to avoid appending duplicate reviews on re-runs in notebook\n",
    "    if os.path.exists(reviews_file): os.remove(reviews_file)\n",
    "    all_reviews_text = \"\"\n",
    "    for movie, title_id in movies_to_scrape.items():\n",
    "        url = f\"https://www.imdb.com/title/{title_id}/reviews\"\n",
    "        print(f\"Scraping reviews for {movie}...\")\n",
    "        try:\n",
    "            response = requests.get(url, headers=headers, timeout=15)\n",
    "            print(f\"Successfully accessed {url} (Status: {response.status_code})\")\n",
    "            soup = BeautifulSoup(response.text, 'html.parser')\n",
    "            review_containers = soup.find_all('div', class_='ipc-html-content-inner-div')\n",
    "            if review_containers:\n",
    "                print(f\"Found {len(review_containers)} review containers for {movie}.\")\n",
    "                with open(reviews_file, 'a', encoding='utf-8') as f:\n",
    "                    f.write(f\"\n",
    "=== Reviews for {movie} ===\n",
    "\")\n",
    "                    for i, review_div in enumerate(review_containers, 1):\n",
    "                        review_text = review_div.get_text(strip=True)\n",
    "                        if review_text: # Ensure non-empty review text\n",
    "                           f.write(f\"Review {i}: {review_text}\n",
    "\")\n",
    "                           all_reviews_text += f\"Review {i} for {movie}: {review_text[:100]}...\n",
    "\"\n",
    "            else:\n",
    "                print(f\"No 'ipc-html-content-inner-div' review containers found for {movie}. Check IMDb page structure.\")\n",
    "        except requests.RequestException as e:\n",
    "            print(f\"Failed to access {url}: {e}\")\n",
    "    if os.path.exists(reviews_file):\n",
    "        print(f\"All reviews saved to {reviews_file}\")\n",
    "    else:\n",
    "        print(\"No reviews scraped.\")\n",
    "    return all_reviews_text[:1000] # Return a sample for display in notebook\n",
    "\n",
    "title_ids_for_scraping = {\n",
    "    'Barbie': 'tt1517268',\n",
    "    'Oppenheimer': 'tt15398776',\n",
    "    'The Marvels': 'tt10676048',\n",
    "    'Dune: Part Two': 'tt15239678'\n",
    "}\n",
    "# Execute scraping (Note: this performs live web scraping)\n",
    "# sample_scraped_reviews = scrape_imdb_reviews_notebook(title_ids_for_scraping)\n",
    "# print(\"\n",
    "Sample of scraped reviews (first 1000 chars):\")\n",
    "# print(sample_scraped_reviews)\n",
    "print(\"IMDb review scraping script defined. To run, uncomment and execute the lines above.\")\n",
    "print(\"Assuming 'imdb_reviews.txt' is already populated from the pipeline run.\")"
   ]
  },
  {
   "cell_type": "markdown",
   "metadata": {},
   "source": [
    "## 4. VADER Sentiment Analysis\n",
    "\n",
    "We use the VADER (Valence Aware Dictionary and sEntiment Reasoner) sentiment analysis tool to score the scraped IMDb reviews."
   ]
  },
  {
   "cell_type": "code",
   "execution_count": 10,
   "metadata": {},
   "outputs": [
    {
     "name": "stdout",
     "output_type": "stream",
     "text": [
      "--- Sentiment Summary Table ---\n",
      "            Movie  Total Reviews  Positive (%)  Negative (%)  Neutral (%)\n",
      "0          Barbie             15     73.333333     20.000000     6.666667\n",
      "1     Oppenheimer             19     89.473684     10.526316     0.000000\n",
      "2     The Marvels             21     66.666667     33.333333     0.000000\n",
      "3  Dune: Part Two             15     93.333333      6.666667     0.000000\n"
     ]
    }
   ],
   "source": [
    "def read_reviews_notebook(file_path):\n",
    "    reviews_by_movie = {}\n",
    "    current_movie = None\n",
    "    if not os.path.exists(file_path):\n",
    "        print(f\"Error: Reviews file {file_path} not found.\")\n",
    "        return reviews_by_movie\n",
    "    with open(file_path, 'r', encoding='utf-8') as f:\n",
    "        for line in f:\n",
    "            line = line.strip()\n",
    "            if line.startswith('=== Reviews for '):\n",
    "                current_movie = line.replace('=== Reviews for ', '').replace(' ===', '')\n",
    "                reviews_by_movie[current_movie] = []\n",
    "            elif line.startswith('Review ') and current_movie:\n",
    "                review_text = re.sub(r'^Review \\d+:\\s*', '', line)\n",
    "                if review_text:\n",
    "                    reviews_by_movie[current_movie].append(review_text)\n",
    "    return reviews_by_movie\n",
    "\n",
    "def analyze_sentiment_notebook(reviews_by_movie):\n",
    "    sia = SentimentIntensityAnalyzer()\n",
    "    results = []\n",
    "    summary_data = []\n",
    "    for movie, reviews in reviews_by_movie.items():\n",
    "        positive, negative, neutral = 0, 0, 0\n",
    "        if not reviews:\n",
    "            summary_data.append({'Movie': movie, 'Total Reviews': 0, 'Positive (%)': 0, 'Negative (%)': 0, 'Neutral (%)': 0})\n",
    "            continue\n",
    "        for i, review in enumerate(reviews, 1):\n",
    "            scores = sia.polarity_scores(review)\n",
    "            compound = scores['compound']\n",
    "            sentiment_label = 'Neutral'\n",
    "            if compound >= 0.05: sentiment_label = 'Positive'; positive += 1\n",
    "            elif compound <= -0.05: sentiment_label = 'Negative'; negative += 1\n",
    "            else: neutral += 1\n",
    "            results.append({'Movie': movie, 'Review Number': i, 'Review Text': review, 'Sentiment': sentiment_label, 'Compound Score': compound})\n",
    "        total = positive + negative + neutral\n",
    "        summary_data.append({'Movie': movie, 'Total Reviews': total, \n",
    "                             'Positive (%)': (positive / total * 100) if total > 0 else 0,\n",
    "                             'Negative (%)': (negative / total * 100) if total > 0 else 0,\n",
    "                             'Neutral (%)': (neutral / total * 100) if total > 0 else 0})\n",
    "    df_summary = pd.DataFrame(summary_data)\n",
    "    return results, df_summary\n",
    "\n",
    "reviews_file_path = 'imdb_reviews.txt'\n",
    "all_reviews = read_reviews_notebook(reviews_file_path)\n",
    "detailed_sentiment_results, sentiment_summary_df = analyze_sentiment_notebook(all_reviews)\n",
    "\n",
    "# Save detailed results and summary table (as done in pipeline)\n",
    "pd.DataFrame(detailed_sentiment_results).to_csv('sentiment_detailed_results.csv', index=False)\n",
    "sentiment_summary_df.to_csv('sentiment_summary_table.csv', index=False)\n",
    "\n",
    "print(\"--- Sentiment Summary Table ---\")\n",
    "print(sentiment_summary_df)"
   ]
  },
  {
   "cell_type": "markdown",
   "metadata": {},
   "source": [
    "Visualizing the sentiment distribution per movie:"
   ]
  },
  {
   "cell_type": "code",
   "execution_count": 11,
   "metadata": {},
   "outputs": [
    {
     "name": "stdout",
     "output_type": "stream",
     "text": [
      "Sentiment summary plot saved to .\\sentiment_summary_plot.png\n"
     ]
    },
    {
     "data": {
      "image/png": "[encoded data removed]",
      "text/plain": [
       "<Figure size 1200x700 with 1 Axes>"
      ]
     },
     "metadata": {},
     "output_type": "display_data"
    }
   ],
   "source": [
    "def plot_sentiment_summary_chart_notebook(df_summary, output_dir='.'):\n",
    "    if df_summary.empty:\n",
    "        print(\"Summary DataFrame is empty, skipping plot.\")\n",
    "        return\n",
    "    df_melted = df_summary.melt(id_vars='Movie', value_vars=['Positive (%)', 'Negative (%)', 'Neutral (%)'], var_name='Sentiment_Type', value_name='Percentage')\n",
    "    plt.figure(figsize=(12, 7))\n",
    "    ax = sns.barplot(data=df_melted, x='Movie', y='Percentage', hue='Sentiment_Type')\n",
    "    ax.set_title('Sentiment Distribution per Movie')\n",
    "    ax.set_ylim(0, 100)\n",
    "    plt.xticks(rotation=45, ha='right')\n",
    "    for p in ax.patches:\n",
    "        height = p.get_height()\n",
    "        if height > 0:\n",
    "            ax.annotate(f'{height:.1f}%', (p.get_x() + p.get_width() / 2., height), ha='center', va='bottom', fontsize=9)\n",
    "    plt.legend(title='Sentiment Type')\n",
    "    plt.tight_layout()\n",
    "    plot_path = os.path.join(output_dir, 'sentiment_summary_plot.png')\n",
    "    plt.savefig(plot_path)\n",
    "    print(f\"Sentiment summary plot saved to {plot_path}\")\n",
    "    plt.show()\n",
    "\n",
    "plot_sentiment_summary_chart_notebook(sentiment_summary_df)"
   ]
  },
  {
   "cell_type": "markdown",
   "metadata": {},
   "source": [
    "## 5. Correlation Analysis: Sentiment vs. Revenue\n",
    "\n",
    "Now, we merge the sentiment summary with the movie financial data and analyze their correlation."
   ]
  },
  {
   "cell_type": "code",
   "execution_count": 12,
   "metadata": {},
   "outputs": [
    {
     "ename": "SyntaxError",
     "evalue": "unterminated string literal (detected at line 29) (1416215924.py, line 29)",
     "output_type": "error",
     "traceback": [
      "  \u001b[36mCell\u001b[39m\u001b[36m \u001b[39m\u001b[32mIn[12]\u001b[39m\u001b[32m, line 29\u001b[39m\n\u001b[31m    \u001b[39m\u001b[31mprint(\"\u001b[39m\n          ^\n\u001b[31mSyntaxError\u001b[39m\u001b[31m:\u001b[39m unterminated string literal (detected at line 29)\n"
     ]
    }
   ],
   "source": [
    "merged_movie_data_path = 'merged_movie_data.csv'\n",
    "df_movies_financial = pd.read_csv(merged_movie_data_path)\n",
    "\n",
    "# Merge movie financial data with sentiment summary\n",
    "df_combined_analysis = pd.merge(df_movies_financial, sentiment_summary_df, left_on='Title', right_on='Movie', how='left')\n",
    "if 'Movie' in df_combined_analysis.columns and 'Title' in df_combined_analysis.columns and 'Movie' != 'Title':\n",
    "    df_combined_analysis.drop(columns=['Movie'], inplace=True) # Drop redundant 'Movie' column if names differed and merge was successful\n",
    "\n",
    "df_combined_analysis.to_csv('combined_movie_sentiment_data.csv', index=False)\n",
    "print(\"Combined movie and sentiment data saved to combined_movie_sentiment_data.csv\")\n",
    "\n",
    "# Select relevant columns for correlation\n",
    "if 'Final_Revenue' not in df_combined_analysis.columns:\n",
    "    print(\"Error: 'Final_Revenue' column not found. Check merged_movie_data.csv\")\n",
    "else:\n",
    "    df_combined_analysis['Final_Revenue'] = pd.to_numeric(df_combined_analysis['Final_Revenue'], errors='coerce')\n",
    "    sentiment_cols_for_corr = ['Positive (%)', 'Negative (%)', 'Neutral (%)']\n",
    "    for col in sentiment_cols_for_corr:\n",
    "        if col in df_combined_analysis.columns:\n",
    "            df_combined_analysis[col] = pd.to_numeric(df_combined_analysis[col], errors='coerce')\n",
    "        else:\n",
    "            print(f\"Warning: Sentiment column {col} not found in combined data for correlation.\")\n",
    "\n",
    "    df_for_corr = df_combined_analysis.dropna(subset=['Final_Revenue'] + sentiment_cols_for_corr)\n",
    "    if df_for_corr.shape[0] < 2:\n",
    "        print(\"Not enough data points for correlation analysis after cleaning.\")\n",
    "    else:\n",
    "        correlation_matrix = df_for_corr[['Final_Revenue'] + sentiment_cols_for_corr].corr()\n",
    "        print(\"\n",
    "--- Correlation Matrix (Revenue vs Sentiment) ---\")\n",
    "        print(correlation_matrix)\n",
    "        correlation_matrix.to_csv('correlation_matrix.csv')\n",
    "        print(f\"Correlation matrix saved to correlation_matrix.csv\")\n",
    "\n",
    "        # Visualizations for correlation\n",
    "        for sent_col in sentiment_cols_for_corr:\n",
    "            if sent_col in df_for_corr.columns:\n",
    "                plt.figure(figsize=(8, 5))\n",
    "                sns.scatterplot(data=df_for_corr, x=sent_col, y='Final_Revenue')\n",
    "                plt.title(f'{sent_col} vs Worldwide Gross')\n",
    "                plt.xlabel(sent_col)\n",
    "                plt.ylabel('Worldwide Gross ($)')\n",
    "                scatter_plot_path = f'{sent_col.replace(\" (%)\", \"\").lower()}_vs_revenue_scatter.png'\n",
    "                plt.savefig(scatter_plot_path)\n",
    "                plt.show()\n",
    "                print(f\"Saved scatter plot to {scatter_plot_path}\")\n",
    "\n",
    "        if not df_for_corr[['Final_Revenue'] + sentiment_cols_for_corr].empty:\n",
    "            pairplot_path = 'sentiment_revenue_pairplot.png'\n",
    "            sns.pairplot(df_for_corr[['Final_Revenue'] + sentiment_cols_for_corr])\n",
    "            plt.savefig(pairplot_path)\n",
    "            plt.show()\n",
    "            print(f\"Saved pairplot to {pairplot_path}\")"
   ]
  },
  {
   "cell_type": "markdown",
   "metadata": {},
   "source": [
    "## 6. Simple Linear Regression (Illustrative)\n",
    "\n",
    "Given the small number of movies (4), a linear regression model will have limited statistical power but is included for illustrative purposes."
   ]
  },
  {
   "cell_type": "code",
   "execution_count": 13,
   "metadata": {},
   "outputs": [
    {
     "ename": "SyntaxError",
     "evalue": "unterminated f-string literal (detected at line 17) (3264253578.py, line 17)",
     "output_type": "error",
     "traceback": [
      "  \u001b[36mCell\u001b[39m\u001b[36m \u001b[39m\u001b[32mIn[13]\u001b[39m\u001b[32m, line 17\u001b[39m\n\u001b[31m    \u001b[39m\u001b[31mprint(f\"\u001b[39m\n          ^\n\u001b[31mSyntaxError\u001b[39m\u001b[31m:\u001b[39m unterminated f-string literal (detected at line 17)\n"
     ]
    }
   ],
   "source": [
    "df_regression_data = pd.read_csv('combined_movie_sentiment_data.csv')\n",
    "# Ensure numeric types for regression\n",
    "df_regression_data['Final_Revenue'] = pd.to_numeric(df_regression_data['Final_Revenue'], errors='coerce')\n",
    "sentiment_cols_reg = ['Positive (%)', 'Negative (%)', 'Neutral (%)']\n",
    "for col in sentiment_cols_reg:\n",
    "    df_regression_data[col] = pd.to_numeric(df_regression_data[col], errors='coerce')\n",
    "df_regression_data.dropna(subset=['Final_Revenue'] + sentiment_cols_reg, inplace=True)\n",
    "\n",
    "if df_regression_data.shape[0] >= 2: # Need at least 2 points to fit a line\n",
    "    X = df_regression_data[sentiment_cols_reg]\n",
    "    y = df_regression_data['Final_Revenue']\n",
    "    model = LinearRegression()\n",
    "    model.fit(X, y) # Fit on all available data due to small sample size\n",
    "    predictions = model.predict(X)\n",
    "    mse = mean_squared_error(y, predictions)\n",
    "    r2 = r2_score(y, predictions)\n",
    "    print(f\"\n",
    "--- Linear Regression (fitted on all {df_regression_data.shape[0]} data points) ---\")\n",
    "    print(f\"Coefficients (for {sentiment_cols_reg}): {model.coef_}\")\n",
    "    print(f\"Intercept: {model.intercept_}\")\n",
    "    print(f\"Mean Squared Error (MSE): {mse}\")\n",
    "    print(f\"R-squared: {r2}\")\n",
    "else:\n",
    "    print(\"Not enough data points for linear regression model fitting after cleaning.\")"
   ]
  },
  {
   "cell_type": "markdown",
   "metadata": {},
   "source": [
    "## 7. Conclusion\n",
    "\n",
    "This notebook performed an analysis of movie sentiment versus box office revenue for a small set of recent films. Key steps included:\n",
    "- Data collection and preprocessing from multiple sources (TMDb, OMDb, Box Office Mojo).\n",
    "- Web scraping of IMDb reviews.\n",
    "- VADER sentiment analysis of these reviews.\n",
    "- Correlation analysis between sentiment scores (Positive %, Negative %, Neutral %) and final revenue.\n",
    "- An illustrative linear regression model.\n",
    "\n",
    "**Key Findings (based on the limited dataset of 4 movies):**\n",
    "- The correlation matrix (see `correlation_matrix.csv` and printed output) shows the calculated relationships. For example, Neutral sentiment percentage showed a notable positive correlation (0.79) with revenue in this small sample, while Negative sentiment showed a negative correlation (-0.44). Positive sentiment had a weaker positive correlation (0.20).\n",
    "- The R-squared value from the linear regression (around 0.92) suggests that, for this specific tiny dataset, the sentiment percentages explain a large portion of the variance in revenue. However, this result should be interpreted with extreme caution due to the very small sample size, which makes the model prone to overfitting and unlikely to generalize well.\n",
    "\n",
    "**Limitations & Future Work:**\n",
    "- **Small Sample Size:** The most significant limitation is the small number of movies analyzed. Conclusions drawn are highly specific to this sample and may not hold for a larger, more diverse set of films.\n",
    "- **Review Source:** Only IMDb reviews were used. Incorporating reviews from other platforms (e.g., Rotten Tomatoes, Metacritic user reviews, Twitter) could provide a more comprehensive sentiment picture.\n",
    "- **Sentiment Analysis Nuance:** VADER is a good general-purpose sentiment analyzer, but more domain-specific models or techniques considering sarcasm, movie-specific jargon, etc., could yield more nuanced scores.\n",
    "- **Other Factors:** Movie revenue is influenced by many factors beyond audience sentiment, including marketing budget, release timing, competition, star power, genre trends, and overall economic conditions. A more comprehensive predictive model would need to incorporate these.\n",
    "\n",
    "To draw more robust conclusions, this analysis should be expanded to include a significantly larger and more diverse dataset of movies spanning various genres, budget levels, and release years."
   ]
  }
 ],
 "metadata": {
  "kernelspec": {
   "display_name": ".venv",
   "language": "python",
   "name": "python3"
  },
  "language_info": {
   "codemirror_mode": {
    "name": "ipython",
    "version": 3
   },
   "file_extension": ".py",
   "mimetype": "text/x-python",
   "name": "python",
   "nbconvert_exporter": "python",
   "pygments_lexer": "ipython3",
   "version": "3.13.3"
  }
 },
 "nbformat": 4,
 "nbformat_minor": 5
}
