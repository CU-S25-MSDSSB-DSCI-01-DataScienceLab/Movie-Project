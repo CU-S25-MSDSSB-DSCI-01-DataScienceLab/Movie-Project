{
 "cells": [
  {
   "cell_type": "markdown",
   "id": "4bb011b5",
   "metadata": {},
   "source": [
    "# Data Collection (OMDb + Box Office)\n",
    "\n",
    "We'll add text and stuff later."
   ]
  },
  {
   "cell_type": "markdown",
   "id": "82b0016d",
   "metadata": {},
   "source": [
    "## 1. Setup"
   ]
  },
  {
   "cell_type": "code",
   "execution_count": 1,
   "id": "f984e44b",
   "metadata": {},
   "outputs": [],
   "source": [
    "import os\n",
    "import json\n",
    "import pandas as pd\n",
    "import requests\n",
    "import time\n",
    "import re\n",
    "\n",
    "base_dir = os.getcwd()\n",
    "json_path = os.path.join(base_dir, \"..\", \"data_collection\", \"OMDb\", \"omdb_data.json\")\n",
    "csv_output_path = os.path.join(base_dir, \"..\", \"data_collection\", \"OMDb\", \"omdb_cleaned.csv\")"
   ]
  },
  {
   "cell_type": "markdown",
   "id": "cc163876",
   "metadata": {},
   "source": [
    "## 2. Fetching OMDb Data\n",
    "\n",
    "text\n",
    "\n",
    "see the omdb_fetch.py script"
   ]
  },
  {
   "cell_type": "markdown",
   "id": "5533f13d",
   "metadata": {},
   "source": [
    "## 3. Load + Explore JSON\n",
    "\n",
    "text"
   ]
  },
  {
   "cell_type": "code",
   "execution_count": 2,
   "id": "748672e5",
   "metadata": {},
   "outputs": [
    {
     "data": {
      "text/html": [
       "<div>\n",
       "<style scoped>\n",
       "    .dataframe tbody tr th:only-of-type {\n",
       "        vertical-align: middle;\n",
       "    }\n",
       "\n",
       "    .dataframe tbody tr th {\n",
       "        vertical-align: top;\n",
       "    }\n",
       "\n",
       "    .dataframe thead th {\n",
       "        text-align: right;\n",
       "    }\n",
       "</style>\n",
       "<table border=\"1\" class=\"dataframe\">\n",
       "  <thead>\n",
       "    <tr style=\"text-align: right;\">\n",
       "      <th></th>\n",
       "      <th>Title</th>\n",
       "      <th>Year</th>\n",
       "      <th>Rated</th>\n",
       "      <th>Released</th>\n",
       "      <th>Runtime</th>\n",
       "      <th>Genre</th>\n",
       "      <th>Director</th>\n",
       "      <th>Writer</th>\n",
       "      <th>Actors</th>\n",
       "      <th>Plot</th>\n",
       "      <th>...</th>\n",
       "      <th>Metascore</th>\n",
       "      <th>imdbRating</th>\n",
       "      <th>imdbVotes</th>\n",
       "      <th>imdbID</th>\n",
       "      <th>Type</th>\n",
       "      <th>DVD</th>\n",
       "      <th>BoxOffice</th>\n",
       "      <th>Production</th>\n",
       "      <th>Website</th>\n",
       "      <th>Response</th>\n",
       "    </tr>\n",
       "  </thead>\n",
       "  <tbody>\n",
       "    <tr>\n",
       "      <th>0</th>\n",
       "      <td>The Shawshank Redemption</td>\n",
       "      <td>1994</td>\n",
       "      <td>R</td>\n",
       "      <td>14 Oct 1994</td>\n",
       "      <td>142 min</td>\n",
       "      <td>Drama</td>\n",
       "      <td>Frank Darabont</td>\n",
       "      <td>Stephen King, Frank Darabont</td>\n",
       "      <td>Tim Robbins, Morgan Freeman, Bob Gunton</td>\n",
       "      <td>A banker convicted of uxoricide forms a friend...</td>\n",
       "      <td>...</td>\n",
       "      <td>82</td>\n",
       "      <td>9.3</td>\n",
       "      <td>3,015,278</td>\n",
       "      <td>tt0111161</td>\n",
       "      <td>movie</td>\n",
       "      <td>N/A</td>\n",
       "      <td>$28,767,189</td>\n",
       "      <td>N/A</td>\n",
       "      <td>N/A</td>\n",
       "      <td>True</td>\n",
       "    </tr>\n",
       "    <tr>\n",
       "      <th>1</th>\n",
       "      <td>The Godfather</td>\n",
       "      <td>1972</td>\n",
       "      <td>R</td>\n",
       "      <td>24 Mar 1972</td>\n",
       "      <td>175 min</td>\n",
       "      <td>Crime, Drama</td>\n",
       "      <td>Francis Ford Coppola</td>\n",
       "      <td>Mario Puzo, Francis Ford Coppola</td>\n",
       "      <td>Marlon Brando, Al Pacino, James Caan</td>\n",
       "      <td>The aging patriarch of an organized crime dyna...</td>\n",
       "      <td>...</td>\n",
       "      <td>100</td>\n",
       "      <td>9.2</td>\n",
       "      <td>2,108,592</td>\n",
       "      <td>tt0068646</td>\n",
       "      <td>movie</td>\n",
       "      <td>N/A</td>\n",
       "      <td>$136,381,073</td>\n",
       "      <td>N/A</td>\n",
       "      <td>N/A</td>\n",
       "      <td>True</td>\n",
       "    </tr>\n",
       "    <tr>\n",
       "      <th>2</th>\n",
       "      <td>The Dark Knight</td>\n",
       "      <td>2008</td>\n",
       "      <td>PG-13</td>\n",
       "      <td>18 Jul 2008</td>\n",
       "      <td>152 min</td>\n",
       "      <td>Action, Crime, Drama</td>\n",
       "      <td>Christopher Nolan</td>\n",
       "      <td>Jonathan Nolan, Christopher Nolan, David S. Goyer</td>\n",
       "      <td>Christian Bale, Heath Ledger, Aaron Eckhart</td>\n",
       "      <td>When a menace known as the Joker wreaks havoc ...</td>\n",
       "      <td>...</td>\n",
       "      <td>84</td>\n",
       "      <td>9.0</td>\n",
       "      <td>2,997,696</td>\n",
       "      <td>tt0468569</td>\n",
       "      <td>movie</td>\n",
       "      <td>N/A</td>\n",
       "      <td>$534,987,076</td>\n",
       "      <td>N/A</td>\n",
       "      <td>N/A</td>\n",
       "      <td>True</td>\n",
       "    </tr>\n",
       "  </tbody>\n",
       "</table>\n",
       "<p>3 rows × 25 columns</p>\n",
       "</div>"
      ],
      "text/plain": [
       "                      Title  Year  Rated     Released  Runtime  \\\n",
       "0  The Shawshank Redemption  1994      R  14 Oct 1994  142 min   \n",
       "1             The Godfather  1972      R  24 Mar 1972  175 min   \n",
       "2           The Dark Knight  2008  PG-13  18 Jul 2008  152 min   \n",
       "\n",
       "                  Genre              Director  \\\n",
       "0                 Drama        Frank Darabont   \n",
       "1          Crime, Drama  Francis Ford Coppola   \n",
       "2  Action, Crime, Drama     Christopher Nolan   \n",
       "\n",
       "                                              Writer  \\\n",
       "0                       Stephen King, Frank Darabont   \n",
       "1                   Mario Puzo, Francis Ford Coppola   \n",
       "2  Jonathan Nolan, Christopher Nolan, David S. Goyer   \n",
       "\n",
       "                                        Actors  \\\n",
       "0      Tim Robbins, Morgan Freeman, Bob Gunton   \n",
       "1         Marlon Brando, Al Pacino, James Caan   \n",
       "2  Christian Bale, Heath Ledger, Aaron Eckhart   \n",
       "\n",
       "                                                Plot  ... Metascore  \\\n",
       "0  A banker convicted of uxoricide forms a friend...  ...        82   \n",
       "1  The aging patriarch of an organized crime dyna...  ...       100   \n",
       "2  When a menace known as the Joker wreaks havoc ...  ...        84   \n",
       "\n",
       "  imdbRating  imdbVotes     imdbID   Type  DVD     BoxOffice Production  \\\n",
       "0        9.3  3,015,278  tt0111161  movie  N/A   $28,767,189        N/A   \n",
       "1        9.2  2,108,592  tt0068646  movie  N/A  $136,381,073        N/A   \n",
       "2        9.0  2,997,696  tt0468569  movie  N/A  $534,987,076        N/A   \n",
       "\n",
       "  Website Response  \n",
       "0     N/A     True  \n",
       "1     N/A     True  \n",
       "2     N/A     True  \n",
       "\n",
       "[3 rows x 25 columns]"
      ]
     },
     "execution_count": 2,
     "metadata": {},
     "output_type": "execute_result"
    }
   ],
   "source": [
    "# into dataframe\n",
    "with open(json_path, \"r\") as f:\n",
    "    data = json.load(f)\n",
    "\n",
    "df = pd.DataFrame(data)\n",
    "df.head(3)"
   ]
  },
  {
   "cell_type": "markdown",
   "id": "9ba63b42",
   "metadata": {},
   "source": [
    "## 4. Cleaning OMDb Data\n",
    "\n",
    "text"
   ]
  },
  {
   "cell_type": "markdown",
   "id": "bed0c68b",
   "metadata": {},
   "source": [
    "### 4.1 Selecting relevant columns"
   ]
  },
  {
   "cell_type": "code",
   "execution_count": 3,
   "id": "fc53dcda",
   "metadata": {},
   "outputs": [
    {
     "data": {
      "text/html": [
       "<div>\n",
       "<style scoped>\n",
       "    .dataframe tbody tr th:only-of-type {\n",
       "        vertical-align: middle;\n",
       "    }\n",
       "\n",
       "    .dataframe tbody tr th {\n",
       "        vertical-align: top;\n",
       "    }\n",
       "\n",
       "    .dataframe thead th {\n",
       "        text-align: right;\n",
       "    }\n",
       "</style>\n",
       "<table border=\"1\" class=\"dataframe\">\n",
       "  <thead>\n",
       "    <tr style=\"text-align: right;\">\n",
       "      <th></th>\n",
       "      <th>Title</th>\n",
       "      <th>Year</th>\n",
       "      <th>Genre</th>\n",
       "      <th>Director</th>\n",
       "      <th>Actors</th>\n",
       "      <th>Language</th>\n",
       "      <th>Country</th>\n",
       "      <th>Runtime</th>\n",
       "      <th>BoxOffice</th>\n",
       "      <th>imdbRating</th>\n",
       "      <th>imdbVotes</th>\n",
       "      <th>Awards</th>\n",
       "      <th>Type</th>\n",
       "    </tr>\n",
       "  </thead>\n",
       "  <tbody>\n",
       "    <tr>\n",
       "      <th>0</th>\n",
       "      <td>The Shawshank Redemption</td>\n",
       "      <td>1994</td>\n",
       "      <td>Drama</td>\n",
       "      <td>Frank Darabont</td>\n",
       "      <td>Tim Robbins, Morgan Freeman, Bob Gunton</td>\n",
       "      <td>English</td>\n",
       "      <td>United States</td>\n",
       "      <td>142 min</td>\n",
       "      <td>$28,767,189</td>\n",
       "      <td>9.3</td>\n",
       "      <td>3,015,278</td>\n",
       "      <td>Nominated for 7 Oscars. 21 wins &amp; 42 nominatio...</td>\n",
       "      <td>movie</td>\n",
       "    </tr>\n",
       "    <tr>\n",
       "      <th>1</th>\n",
       "      <td>The Godfather</td>\n",
       "      <td>1972</td>\n",
       "      <td>Crime, Drama</td>\n",
       "      <td>Francis Ford Coppola</td>\n",
       "      <td>Marlon Brando, Al Pacino, James Caan</td>\n",
       "      <td>English, Italian, Latin</td>\n",
       "      <td>United States</td>\n",
       "      <td>175 min</td>\n",
       "      <td>$136,381,073</td>\n",
       "      <td>9.2</td>\n",
       "      <td>2,108,592</td>\n",
       "      <td>Won 3 Oscars. 31 wins &amp; 31 nominations total</td>\n",
       "      <td>movie</td>\n",
       "    </tr>\n",
       "    <tr>\n",
       "      <th>2</th>\n",
       "      <td>The Dark Knight</td>\n",
       "      <td>2008</td>\n",
       "      <td>Action, Crime, Drama</td>\n",
       "      <td>Christopher Nolan</td>\n",
       "      <td>Christian Bale, Heath Ledger, Aaron Eckhart</td>\n",
       "      <td>English, Mandarin</td>\n",
       "      <td>United States, United Kingdom</td>\n",
       "      <td>152 min</td>\n",
       "      <td>$534,987,076</td>\n",
       "      <td>9.0</td>\n",
       "      <td>2,997,696</td>\n",
       "      <td>Won 2 Oscars. 164 wins &amp; 165 nominations total</td>\n",
       "      <td>movie</td>\n",
       "    </tr>\n",
       "  </tbody>\n",
       "</table>\n",
       "</div>"
      ],
      "text/plain": [
       "                      Title  Year                 Genre              Director  \\\n",
       "0  The Shawshank Redemption  1994                 Drama        Frank Darabont   \n",
       "1             The Godfather  1972          Crime, Drama  Francis Ford Coppola   \n",
       "2           The Dark Knight  2008  Action, Crime, Drama     Christopher Nolan   \n",
       "\n",
       "                                        Actors                 Language  \\\n",
       "0      Tim Robbins, Morgan Freeman, Bob Gunton                  English   \n",
       "1         Marlon Brando, Al Pacino, James Caan  English, Italian, Latin   \n",
       "2  Christian Bale, Heath Ledger, Aaron Eckhart        English, Mandarin   \n",
       "\n",
       "                         Country  Runtime     BoxOffice imdbRating  imdbVotes  \\\n",
       "0                  United States  142 min   $28,767,189        9.3  3,015,278   \n",
       "1                  United States  175 min  $136,381,073        9.2  2,108,592   \n",
       "2  United States, United Kingdom  152 min  $534,987,076        9.0  2,997,696   \n",
       "\n",
       "                                              Awards   Type  \n",
       "0  Nominated for 7 Oscars. 21 wins & 42 nominatio...  movie  \n",
       "1       Won 3 Oscars. 31 wins & 31 nominations total  movie  \n",
       "2     Won 2 Oscars. 164 wins & 165 nominations total  movie  "
      ]
     },
     "execution_count": 3,
     "metadata": {},
     "output_type": "execute_result"
    }
   ],
   "source": [
    "columns_to_keep = [\n",
    "    \"Title\", \"Year\", \"Genre\", \"Director\", \"Actors\",\n",
    "    \"Language\", \"Country\", \"Runtime\", \"BoxOffice\",\n",
    "    \"imdbRating\", \"imdbVotes\", \"Awards\", \"Type\"\n",
    "]\n",
    "\n",
    "df = df[columns_to_keep]\n",
    "df.head(3)"
   ]
  },
  {
   "cell_type": "markdown",
   "id": "60abae73",
   "metadata": {},
   "source": [
    "### 4.2 Cleaning numeric fields"
   ]
  },
  {
   "cell_type": "code",
   "execution_count": 4,
   "id": "dd0eccf0",
   "metadata": {},
   "outputs": [],
   "source": [
    "#BoxOffice cleanup\n",
    "df[\"BoxOffice\"] = df[\"BoxOffice\"].replace(\"N/A\", None)\n",
    "\n",
    "df[\"BoxOffice\"] = df[\"BoxOffice\"].dropna().apply(\n",
    "    lambda x: int(re.sub(r\"[\\$,]\", \"\", x)) if isinstance(x, str) else None\n",
    ")\n",
    "\n",
    "#imdbRating cleanup\n",
    "df[\"imdbRating\"] = pd.to_numeric(df[\"imdbRating\"], errors=\"coerce\")\n",
    "\n",
    "#imdbVotes cleanup\n",
    "df[\"imdbVotes\"] = df[\"imdbVotes\"].replace(\"N/A\", None)\n",
    "\n",
    "df[\"imdbVotes\"] = df[\"imdbVotes\"].dropna().apply(\n",
    "    lambda x: int(x.replace(\",\", \"\")) if isinstance(x, str) else None\n",
    ")\n",
    "\n",
    "# saving cleaned data to csv\n",
    "df.to_csv(csv_output_path, index=False)"
   ]
  },
  {
   "cell_type": "markdown",
   "id": "6aa0b324",
   "metadata": {},
   "source": [
    "## 5. Box Office Missing Values\n",
    "\n",
    "After cleaning, we check how many movies do not contain valid box office revenue data."
   ]
  },
  {
   "cell_type": "code",
   "execution_count": 5,
   "id": "da5cc0ed",
   "metadata": {},
   "outputs": [
    {
     "name": "stdout",
     "output_type": "stream",
     "text": [
      "208 out of 988 movies are missing BoxOffice data.\n"
     ]
    }
   ],
   "source": [
    "boxoffice_miss = df[df[\"BoxOffice\"].isna()]\n",
    "print(f\"{len(boxoffice_miss)} out of {len(df)} movies are missing BoxOffice data.\")"
   ]
  },
  {
   "cell_type": "markdown",
   "id": "fb73f5a4",
   "metadata": {},
   "source": [
    "208 movies lack `BoxOffice` data from OMDb. These will be handled by a custom scraper using external sources."
   ]
  },
  {
   "cell_type": "markdown",
   "id": "6125aaea",
   "metadata": {},
   "source": [
    "### 5.1 Saving missing movies for scraper"
   ]
  },
  {
   "cell_type": "code",
   "execution_count": 6,
   "id": "f06490af",
   "metadata": {},
   "outputs": [],
   "source": [
    "missing_titles = boxoffice_miss[\"Title\"]\n",
    "missing_path = os.path.join(base_dir, \"..\", \"data_collection\", \"BoxOfficeScraper\", \"missing_boxoffice.txt\")\n",
    "\n",
    "missing_titles.to_csv(missing_path, index=False, header=False)"
   ]
  },
  {
   "cell_type": "markdown",
   "id": "8f68bbb0",
   "metadata": {},
   "source": [
    "### 5.2 Scraping missing Box Office values\n",
    "\n",
    "in work"
   ]
  },
  {
   "cell_type": "markdown",
   "id": "28470904",
   "metadata": {},
   "source": [
    "## 6 Final Data\n",
    "\n"
   ]
  }
 ],
 "metadata": {
  "kernelspec": {
   "display_name": "ds_env",
   "language": "python",
   "name": "python3"
  },
  "language_info": {
   "codemirror_mode": {
    "name": "ipython",
    "version": 3
   },
   "file_extension": ".py",
   "mimetype": "text/x-python",
   "name": "python",
   "nbconvert_exporter": "python",
   "pygments_lexer": "ipython3",
   "version": "3.10.16"
  }
 },
 "nbformat": 4,
 "nbformat_minor": 5
}
