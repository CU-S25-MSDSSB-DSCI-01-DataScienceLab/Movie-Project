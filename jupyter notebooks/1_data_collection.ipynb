{
 "cells": [
  {
   "cell_type": "markdown",
   "id": "4bb011b5",
   "metadata": {},
   "source": [
    "# Data Collection & Wrangling\n",
    "\n",
    "\n",
    "**Goal:** Build a stratified 5000 movie list, fetch OMDb movies metadata, fill missing BoxOffice and output clean dataframe.\n",
    "\n",
    "\n"
   ]
  },
  {
   "cell_type": "markdown",
   "id": "82b0016d",
   "metadata": {},
   "source": [
    "## 1. Setup"
   ]
  },
  {
   "cell_type": "code",
   "execution_count": 1,
   "id": "f984e44b",
   "metadata": {},
   "outputs": [],
   "source": [
    "import os\n",
    "import json\n",
    "import pandas as pd\n",
    "import math\n",
    "import re\n",
    "import warnings\n",
    "\n",
    "# ignores annoying warnings\n",
    "warnings.filterwarnings(\n",
    "    \"ignore\",\n",
    "    message=\".*apply operated on the grouping columns.*\",\n",
    "    category=DeprecationWarning\n",
    ")\n",
    "\n",
    "base_dir = os.getcwd()\n",
    "# obdb paths\n",
    "json_path = os.path.join(base_dir, \"..\", \"data_collection\", \"omdb_data.json\")\n",
    "csv_output_path = os.path.join(base_dir, \"..\", \"data_collection\", \"omdb_cleaned.csv\")\n",
    "# kaggle metadata path\n",
    "metadata_path = os.path.join(base_dir, \"..\", \"data_collection\", \"Kaggle The Movies Dataset\", \"movies_metadata.csv\")\n",
    "# master movie list parth\n",
    "movie_list_path = os.path.join(base_dir, \"..\", \"data_collection\", \"movie_list.txt\")"
   ]
  },
  {
   "cell_type": "markdown",
   "id": "cc163876",
   "metadata": {},
   "source": [
    "## 2. Building Master Movie List\n",
    "\n",
    "description of this section, our idea and an advantage of this approach"
   ]
  },
  {
   "cell_type": "markdown",
   "id": "6af3d9af",
   "metadata": {},
   "source": [
    "### 2.1 Load and preprocess medadata\n",
    "\n",
    "what we do"
   ]
  },
  {
   "cell_type": "code",
   "execution_count": 2,
   "id": "a5986d5f",
   "metadata": {},
   "outputs": [],
   "source": [
    "df = pd.read_csv(metadata_path, low_memory=False)\n",
    "\n",
    "df = df.dropna(subset=[\"budget\", \"release_date\"])\n",
    "df[\"budget\"] = pd.to_numeric(df[\"budget\"], errors=\"coerce\")\n",
    "df[\"year\"]   = pd.to_datetime(df[\"release_date\"], errors=\"coerce\").dt.year\n",
    "df = df[df[\"year\"].between(1974, 2024)]  # 50 years span"
   ]
  },
  {
   "cell_type": "markdown",
   "id": "508f667d",
   "metadata": {},
   "source": [
    "### 2.2 Define budget tiers and draw sample\n",
    "\n",
    "why we make tiers\n",
    "\n"
   ]
  },
  {
   "cell_type": "code",
   "execution_count": 3,
   "id": "73e423e6",
   "metadata": {},
   "outputs": [
    {
     "name": "stdout",
     "output_type": "stream",
     "text": [
      "n_decades=6 × n_tiers=4 = 24 cells\n",
      "If we want to reach ~5000 movies, then N_PER_CELL = 209\n"
     ]
    }
   ],
   "source": [
    "df[\"decade\"]  = (df[\"year\"] // 10) * 10\n",
    "df[\"budget_m\"] = df[\"budget\"] / 1000000\n",
    "\n",
    "budget_bins  = [0, 5, 20, 100, df[\"budget_m\"].max()+1]\n",
    "budget_labels= [\"<5M\", \"5–20M\", \"20–100M\", \">100M\"]\n",
    "df[\"budget_tier\"] = pd.cut(df[\"budget_m\"], bins=budget_bins, labels=budget_labels)\n",
    "\n",
    "n_decades = df[\"decade\"].nunique()\n",
    "n_tiers   = df[\"budget_tier\"].nunique()\n",
    "total_cells = n_decades * n_tiers\n",
    "\n",
    "N_PER_CELL = math.ceil(5000 / total_cells)\n",
    "print(f\"{n_decades=} × {n_tiers=} = {total_cells} cells\")\n",
    "print(f\"If we want to reach ~5000 movies, then N_PER_CELL = {N_PER_CELL}\")"
   ]
  },
  {
   "cell_type": "markdown",
   "id": "01039f92",
   "metadata": {},
   "source": [
    "what is stratified sampling\n",
    "\n",
    "how this is gonna help us?"
   ]
  },
  {
   "cell_type": "code",
   "execution_count": 4,
   "id": "af031c2c",
   "metadata": {},
   "outputs": [
    {
     "name": "stdout",
     "output_type": "stream",
     "text": [
      "Total sampled: 2971\n",
      "Sampled 2971 movies across 5 decades × 4 budget tiers\n"
     ]
    }
   ],
   "source": [
    "sampled = (\n",
    "    df\n",
    "    .groupby([\"decade\", \"budget_tier\"], observed=True, group_keys=False)\n",
    "    .apply(\n",
    "        lambda grp: grp.sample(min(len(grp), N_PER_CELL), random_state=42),\n",
    "        include_groups=True)\n",
    ")\n",
    "print(f\"Total sampled: {len(sampled)}\")\n",
    "print(f\"Sampled {len(sampled)} movies across \"\n",
    "      f\"{sampled['decade'].nunique()} decades × \"\n",
    "      f\"{sampled['budget_tier'].nunique()} budget tiers\")"
   ]
  },
  {
   "cell_type": "markdown",
   "id": "f0b96d70",
   "metadata": {},
   "source": [
    "we end up with 2971 movies but we want more!\n",
    "\n",
    "so now we are going to randomly choose the rest from the original Kaggle dataset to reach 5k"
   ]
  },
  {
   "cell_type": "code",
   "execution_count": 5,
   "id": "c3f8a662",
   "metadata": {},
   "outputs": [
    {
     "name": "stdout",
     "output_type": "stream",
     "text": [
      "Final stratified + random sample: 5000 movies\n"
     ]
    }
   ],
   "source": [
    "target = 5000\n",
    "current = len(sampled)\n",
    "if current < target:\n",
    "    residual = target - current\n",
    "    remaining = df.loc[~df.index.isin(sampled.index)] # all except already chosen\n",
    "    extra = remaining.sample(residual, random_state=42)    # randomly xhoosing\n",
    "    sampled = pd.concat([sampled, extra]) #merge\n",
    "print(f\"Final stratified + random sample: {len(sampled)} movies\")"
   ]
  },
  {
   "cell_type": "markdown",
   "id": "da1cb50e",
   "metadata": {},
   "source": [
    "### 2.3 Final master movie list\n",
    "done"
   ]
  },
  {
   "cell_type": "code",
   "execution_count": 6,
   "id": "1d62214a",
   "metadata": {},
   "outputs": [
    {
     "name": "stdout",
     "output_type": "stream",
     "text": [
      "Master list of 5000 titles is saved to c:\\PythonProjects\\Movie-Team\\jupyter notebooks\\..\\data_collection\\movie_list.txt\n"
     ]
    }
   ],
   "source": [
    "sampled[\"title\"].to_csv(movie_list_path, index=False, header=False)\n",
    "print(f\"Master list of {len(sampled)} titles is saved to {movie_list_path}\")"
   ]
  },
  {
   "cell_type": "markdown",
   "id": "f43bcc35",
   "metadata": {},
   "source": [
    "## 3. OMDb Data Fetching\n",
    "\n",
    "\n",
    "Refer to `omdb_fetch.py` script"
   ]
  },
  {
   "cell_type": "code",
   "execution_count": 7,
   "id": "ce7e52eb",
   "metadata": {},
   "outputs": [],
   "source": [
    "# python omdb_fetch.py"
   ]
  },
  {
   "cell_type": "markdown",
   "id": "5533f13d",
   "metadata": {},
   "source": [
    "## 4. Inspect Raw JSON\n",
    "\n",
    "text\n",
    "\n",
    "json to dataframe"
   ]
  },
  {
   "cell_type": "code",
   "execution_count": 8,
   "id": "748672e5",
   "metadata": {},
   "outputs": [
    {
     "data": {
      "application/vnd.microsoft.datawrangler.viewer.v0+json": {
       "columns": [
        {
         "name": "index",
         "rawType": "int64",
         "type": "integer"
        },
        {
         "name": "Title",
         "rawType": "object",
         "type": "string"
        },
        {
         "name": "Year",
         "rawType": "object",
         "type": "string"
        },
        {
         "name": "Rated",
         "rawType": "object",
         "type": "string"
        },
        {
         "name": "Released",
         "rawType": "object",
         "type": "string"
        },
        {
         "name": "Runtime",
         "rawType": "object",
         "type": "string"
        },
        {
         "name": "Genre",
         "rawType": "object",
         "type": "string"
        },
        {
         "name": "Director",
         "rawType": "object",
         "type": "string"
        },
        {
         "name": "Writer",
         "rawType": "object",
         "type": "string"
        },
        {
         "name": "Actors",
         "rawType": "object",
         "type": "string"
        },
        {
         "name": "Plot",
         "rawType": "object",
         "type": "string"
        },
        {
         "name": "Language",
         "rawType": "object",
         "type": "string"
        },
        {
         "name": "Country",
         "rawType": "object",
         "type": "string"
        },
        {
         "name": "Awards",
         "rawType": "object",
         "type": "string"
        },
        {
         "name": "Poster",
         "rawType": "object",
         "type": "string"
        },
        {
         "name": "Ratings",
         "rawType": "object",
         "type": "unknown"
        },
        {
         "name": "Metascore",
         "rawType": "object",
         "type": "string"
        },
        {
         "name": "imdbRating",
         "rawType": "object",
         "type": "string"
        },
        {
         "name": "imdbVotes",
         "rawType": "object",
         "type": "string"
        },
        {
         "name": "imdbID",
         "rawType": "object",
         "type": "string"
        },
        {
         "name": "Type",
         "rawType": "object",
         "type": "string"
        },
        {
         "name": "DVD",
         "rawType": "object",
         "type": "string"
        },
        {
         "name": "BoxOffice",
         "rawType": "object",
         "type": "string"
        },
        {
         "name": "Production",
         "rawType": "object",
         "type": "string"
        },
        {
         "name": "Website",
         "rawType": "object",
         "type": "string"
        },
        {
         "name": "Response",
         "rawType": "object",
         "type": "string"
        },
        {
         "name": "totalSeasons",
         "rawType": "object",
         "type": "unknown"
        }
       ],
       "ref": "a4b7e1b8-cc2b-4d4d-8b68-33bfbf14c3f6",
       "rows": [
        [
         "0",
         "Good Guys Wear Black",
         "1978",
         "PG",
         "01 Jun 1978",
         "95 min",
         "Action",
         "Ted Post",
         "Bruce Cohn, Mark Medoff, Joseph Fraley",
         "Chuck Norris, Anne Archer, James Franciscus",
         "An ex-US Army commando must find the reason why his comrades from his unit are being systematically murdered before he is next.",
         "English",
         "United States",
         "N/A",
         "https://m.media-amazon.com/images/M/MV5BMTBjMmQwZjgtY2Q0Ny00MTUxLTgzYjgtZDIxYWNmNzg5OGRkXkEyXkFqcGc@._V1_SX300.jpg",
         "[{'Source': 'Internet Movie Database', 'Value': '5.1/10'}, {'Source': 'Rotten Tomatoes', 'Value': '17%'}]",
         "N/A",
         "5.1",
         "3,865",
         "tt0079227",
         "movie",
         "N/A",
         "N/A",
         "N/A",
         "N/A",
         "True",
         null
        ],
        [
         "1",
         "Grizzly",
         "1976",
         "PG",
         "21 May 1976",
         "91 min",
         "Adventure, Horror, Thriller",
         "William Girdler",
         "Harvey Flaxman, David Sheldon, Andrew Prine",
         "Christopher George, Andrew Prine, Richard Jaeckel",
         "An eighteen-foot-tall grizzly bear terrorizes a state park, leaving Ranger Mike Kelly, photographer Allison Corwin, naturist Arthur Scott, and chopper pilot Don Stober to track down the beast. Meanwhile, the body count rises.",
         "English",
         "United States",
         "N/A",
         "https://m.media-amazon.com/images/M/MV5BODI2YzQ1N2EtNDg1Zi00OWM0LTlmNGMtM2ExYzE1MmRlZjczXkEyXkFqcGc@._V1_SX300.jpg",
         "[{'Source': 'Internet Movie Database', 'Value': '5.2/10'}, {'Source': 'Rotten Tomatoes', 'Value': '45%'}, {'Source': 'Metacritic', 'Value': '25/100'}]",
         "25",
         "5.2",
         "6,166",
         "tt0074593",
         "movie",
         "N/A",
         "N/A",
         "N/A",
         "N/A",
         "True",
         null
        ],
        [
         "2",
         "Midnight Express",
         "1978",
         "R",
         "27 Oct 1978",
         "121 min",
         "Biography, Crime, Drama",
         "Alan Parker",
         "Oliver Stone, Billy Hayes, William Hoffer",
         "Brad Davis, Irene Miracle, Bo Hopkins",
         "Billy Hayes, an American college student, is caught smuggling drugs out of Turkey and thrown into prison.",
         "English, Turkish, French",
         "United Kingdom, United States",
         "Won 2 Oscars. 17 wins & 14 nominations total",
         "https://m.media-amazon.com/images/M/MV5BZTRiOGMxYzctMTk3Ny00ODBkLWIyNTMtOGZhMWY0MjZiYzAxXkEyXkFqcGc@._V1_SX300.jpg",
         "[{'Source': 'Internet Movie Database', 'Value': '7.5/10'}, {'Source': 'Rotten Tomatoes', 'Value': '90%'}, {'Source': 'Metacritic', 'Value': '59/100'}]",
         "59",
         "7.5",
         "90,240",
         "tt0077928",
         "movie",
         "N/A",
         "$35,000,000",
         "N/A",
         "N/A",
         "True",
         null
        ],
        [
         "3",
         "Death Wish",
         "2018",
         "R",
         "02 Mar 2018",
         "107 min",
         "Action, Crime, Drama",
         "Eli Roth",
         "Joe Carnahan, Brian Garfield, Wendell Mayes",
         "Bruce Willis, Vincent D'Onofrio, Elisabeth Shue",
         "Dr. Paul Kersey is an experienced trauma surgeon, a man who has spent his life saving lives. After an attack on his family, Paul embarks on his own mission for justice.",
         "English, Spanish",
         "United States, Canada",
         "4 nominations total",
         "https://m.media-amazon.com/images/M/MV5BMTkzNjU3MjE0MF5BMl5BanBnXkFtZTgwNTIyNDk0NDM@._V1_SX300.jpg",
         "[{'Source': 'Internet Movie Database', 'Value': '6.3/10'}, {'Source': 'Rotten Tomatoes', 'Value': '17%'}, {'Source': 'Metacritic', 'Value': '31/100'}]",
         "31",
         "6.3",
         "78,823",
         "tt1137450",
         "movie",
         "N/A",
         "$34,017,028",
         "N/A",
         "N/A",
         "True",
         null
        ],
        [
         "4",
         "Capone",
         "2020",
         "R",
         "12 May 2020",
         "103 min",
         "Biography, Crime, Drama",
         "Josh Trank",
         "Josh Trank",
         "Tom Hardy, Linda Cardellini, Matt Dillon",
         "After a 10 year stint, former bootlegger and notorious criminal Al Capone starts to show signs of dementia, forcing him to face the demons of his violent past.",
         "English, Italian, Spanish",
         "Canada, United States, United Kingdom",
         "1 nomination total",
         "https://m.media-amazon.com/images/M/MV5BOWM0YjEzZGItZTdkOC00ZjI1LWJjN2YtZGY4OWY4MmZkZDg4XkEyXkFqcGc@._V1_SX300.jpg",
         "[{'Source': 'Internet Movie Database', 'Value': '4.7/10'}, {'Source': 'Rotten Tomatoes', 'Value': '40%'}, {'Source': 'Metacritic', 'Value': '46/100'}]",
         "46",
         "4.7",
         "23,898",
         "tt6199572",
         "movie",
         "N/A",
         "N/A",
         "N/A",
         "N/A",
         "True",
         null
        ]
       ],
       "shape": {
        "columns": 26,
        "rows": 5
       }
      },
      "text/html": [
       "<div>\n",
       "<style scoped>\n",
       "    .dataframe tbody tr th:only-of-type {\n",
       "        vertical-align: middle;\n",
       "    }\n",
       "\n",
       "    .dataframe tbody tr th {\n",
       "        vertical-align: top;\n",
       "    }\n",
       "\n",
       "    .dataframe thead th {\n",
       "        text-align: right;\n",
       "    }\n",
       "</style>\n",
       "<table border=\"1\" class=\"dataframe\">\n",
       "  <thead>\n",
       "    <tr style=\"text-align: right;\">\n",
       "      <th></th>\n",
       "      <th>Title</th>\n",
       "      <th>Year</th>\n",
       "      <th>Rated</th>\n",
       "      <th>Released</th>\n",
       "      <th>Runtime</th>\n",
       "      <th>Genre</th>\n",
       "      <th>Director</th>\n",
       "      <th>Writer</th>\n",
       "      <th>Actors</th>\n",
       "      <th>Plot</th>\n",
       "      <th>...</th>\n",
       "      <th>imdbRating</th>\n",
       "      <th>imdbVotes</th>\n",
       "      <th>imdbID</th>\n",
       "      <th>Type</th>\n",
       "      <th>DVD</th>\n",
       "      <th>BoxOffice</th>\n",
       "      <th>Production</th>\n",
       "      <th>Website</th>\n",
       "      <th>Response</th>\n",
       "      <th>totalSeasons</th>\n",
       "    </tr>\n",
       "  </thead>\n",
       "  <tbody>\n",
       "    <tr>\n",
       "      <th>0</th>\n",
       "      <td>Good Guys Wear Black</td>\n",
       "      <td>1978</td>\n",
       "      <td>PG</td>\n",
       "      <td>01 Jun 1978</td>\n",
       "      <td>95 min</td>\n",
       "      <td>Action</td>\n",
       "      <td>Ted Post</td>\n",
       "      <td>Bruce Cohn, Mark Medoff, Joseph Fraley</td>\n",
       "      <td>Chuck Norris, Anne Archer, James Franciscus</td>\n",
       "      <td>An ex-US Army commando must find the reason wh...</td>\n",
       "      <td>...</td>\n",
       "      <td>5.1</td>\n",
       "      <td>3,865</td>\n",
       "      <td>tt0079227</td>\n",
       "      <td>movie</td>\n",
       "      <td>N/A</td>\n",
       "      <td>N/A</td>\n",
       "      <td>N/A</td>\n",
       "      <td>N/A</td>\n",
       "      <td>True</td>\n",
       "      <td>NaN</td>\n",
       "    </tr>\n",
       "    <tr>\n",
       "      <th>1</th>\n",
       "      <td>Grizzly</td>\n",
       "      <td>1976</td>\n",
       "      <td>PG</td>\n",
       "      <td>21 May 1976</td>\n",
       "      <td>91 min</td>\n",
       "      <td>Adventure, Horror, Thriller</td>\n",
       "      <td>William Girdler</td>\n",
       "      <td>Harvey Flaxman, David Sheldon, Andrew Prine</td>\n",
       "      <td>Christopher George, Andrew Prine, Richard Jaeckel</td>\n",
       "      <td>An eighteen-foot-tall grizzly bear terrorizes ...</td>\n",
       "      <td>...</td>\n",
       "      <td>5.2</td>\n",
       "      <td>6,166</td>\n",
       "      <td>tt0074593</td>\n",
       "      <td>movie</td>\n",
       "      <td>N/A</td>\n",
       "      <td>N/A</td>\n",
       "      <td>N/A</td>\n",
       "      <td>N/A</td>\n",
       "      <td>True</td>\n",
       "      <td>NaN</td>\n",
       "    </tr>\n",
       "    <tr>\n",
       "      <th>2</th>\n",
       "      <td>Midnight Express</td>\n",
       "      <td>1978</td>\n",
       "      <td>R</td>\n",
       "      <td>27 Oct 1978</td>\n",
       "      <td>121 min</td>\n",
       "      <td>Biography, Crime, Drama</td>\n",
       "      <td>Alan Parker</td>\n",
       "      <td>Oliver Stone, Billy Hayes, William Hoffer</td>\n",
       "      <td>Brad Davis, Irene Miracle, Bo Hopkins</td>\n",
       "      <td>Billy Hayes, an American college student, is c...</td>\n",
       "      <td>...</td>\n",
       "      <td>7.5</td>\n",
       "      <td>90,240</td>\n",
       "      <td>tt0077928</td>\n",
       "      <td>movie</td>\n",
       "      <td>N/A</td>\n",
       "      <td>$35,000,000</td>\n",
       "      <td>N/A</td>\n",
       "      <td>N/A</td>\n",
       "      <td>True</td>\n",
       "      <td>NaN</td>\n",
       "    </tr>\n",
       "    <tr>\n",
       "      <th>3</th>\n",
       "      <td>Death Wish</td>\n",
       "      <td>2018</td>\n",
       "      <td>R</td>\n",
       "      <td>02 Mar 2018</td>\n",
       "      <td>107 min</td>\n",
       "      <td>Action, Crime, Drama</td>\n",
       "      <td>Eli Roth</td>\n",
       "      <td>Joe Carnahan, Brian Garfield, Wendell Mayes</td>\n",
       "      <td>Bruce Willis, Vincent D'Onofrio, Elisabeth Shue</td>\n",
       "      <td>Dr. Paul Kersey is an experienced trauma surge...</td>\n",
       "      <td>...</td>\n",
       "      <td>6.3</td>\n",
       "      <td>78,823</td>\n",
       "      <td>tt1137450</td>\n",
       "      <td>movie</td>\n",
       "      <td>N/A</td>\n",
       "      <td>$34,017,028</td>\n",
       "      <td>N/A</td>\n",
       "      <td>N/A</td>\n",
       "      <td>True</td>\n",
       "      <td>NaN</td>\n",
       "    </tr>\n",
       "    <tr>\n",
       "      <th>4</th>\n",
       "      <td>Capone</td>\n",
       "      <td>2020</td>\n",
       "      <td>R</td>\n",
       "      <td>12 May 2020</td>\n",
       "      <td>103 min</td>\n",
       "      <td>Biography, Crime, Drama</td>\n",
       "      <td>Josh Trank</td>\n",
       "      <td>Josh Trank</td>\n",
       "      <td>Tom Hardy, Linda Cardellini, Matt Dillon</td>\n",
       "      <td>After a 10 year stint, former bootlegger and n...</td>\n",
       "      <td>...</td>\n",
       "      <td>4.7</td>\n",
       "      <td>23,898</td>\n",
       "      <td>tt6199572</td>\n",
       "      <td>movie</td>\n",
       "      <td>N/A</td>\n",
       "      <td>N/A</td>\n",
       "      <td>N/A</td>\n",
       "      <td>N/A</td>\n",
       "      <td>True</td>\n",
       "      <td>NaN</td>\n",
       "    </tr>\n",
       "  </tbody>\n",
       "</table>\n",
       "<p>5 rows × 26 columns</p>\n",
       "</div>"
      ],
      "text/plain": [
       "                  Title  Year Rated     Released  Runtime  \\\n",
       "0  Good Guys Wear Black  1978    PG  01 Jun 1978   95 min   \n",
       "1               Grizzly  1976    PG  21 May 1976   91 min   \n",
       "2      Midnight Express  1978     R  27 Oct 1978  121 min   \n",
       "3            Death Wish  2018     R  02 Mar 2018  107 min   \n",
       "4                Capone  2020     R  12 May 2020  103 min   \n",
       "\n",
       "                         Genre         Director  \\\n",
       "0                       Action         Ted Post   \n",
       "1  Adventure, Horror, Thriller  William Girdler   \n",
       "2      Biography, Crime, Drama      Alan Parker   \n",
       "3         Action, Crime, Drama         Eli Roth   \n",
       "4      Biography, Crime, Drama       Josh Trank   \n",
       "\n",
       "                                        Writer  \\\n",
       "0       Bruce Cohn, Mark Medoff, Joseph Fraley   \n",
       "1  Harvey Flaxman, David Sheldon, Andrew Prine   \n",
       "2    Oliver Stone, Billy Hayes, William Hoffer   \n",
       "3  Joe Carnahan, Brian Garfield, Wendell Mayes   \n",
       "4                                   Josh Trank   \n",
       "\n",
       "                                              Actors  \\\n",
       "0        Chuck Norris, Anne Archer, James Franciscus   \n",
       "1  Christopher George, Andrew Prine, Richard Jaeckel   \n",
       "2              Brad Davis, Irene Miracle, Bo Hopkins   \n",
       "3    Bruce Willis, Vincent D'Onofrio, Elisabeth Shue   \n",
       "4           Tom Hardy, Linda Cardellini, Matt Dillon   \n",
       "\n",
       "                                                Plot  ... imdbRating  \\\n",
       "0  An ex-US Army commando must find the reason wh...  ...        5.1   \n",
       "1  An eighteen-foot-tall grizzly bear terrorizes ...  ...        5.2   \n",
       "2  Billy Hayes, an American college student, is c...  ...        7.5   \n",
       "3  Dr. Paul Kersey is an experienced trauma surge...  ...        6.3   \n",
       "4  After a 10 year stint, former bootlegger and n...  ...        4.7   \n",
       "\n",
       "  imdbVotes     imdbID   Type  DVD    BoxOffice Production Website Response  \\\n",
       "0     3,865  tt0079227  movie  N/A          N/A        N/A     N/A     True   \n",
       "1     6,166  tt0074593  movie  N/A          N/A        N/A     N/A     True   \n",
       "2    90,240  tt0077928  movie  N/A  $35,000,000        N/A     N/A     True   \n",
       "3    78,823  tt1137450  movie  N/A  $34,017,028        N/A     N/A     True   \n",
       "4    23,898  tt6199572  movie  N/A          N/A        N/A     N/A     True   \n",
       "\n",
       "  totalSeasons  \n",
       "0          NaN  \n",
       "1          NaN  \n",
       "2          NaN  \n",
       "3          NaN  \n",
       "4          NaN  \n",
       "\n",
       "[5 rows x 26 columns]"
      ]
     },
     "execution_count": 8,
     "metadata": {},
     "output_type": "execute_result"
    }
   ],
   "source": [
    "# into dataframe\n",
    "with open(json_path, \"r\") as f:\n",
    "    data = json.load(f)\n",
    "\n",
    "df = pd.DataFrame(data)\n",
    "df.head(5)"
   ]
  },
  {
   "cell_type": "markdown",
   "id": "9ba63b42",
   "metadata": {},
   "source": [
    "## 5. Data Cleaning\n",
    "\n",
    "text"
   ]
  },
  {
   "cell_type": "markdown",
   "id": "bed0c68b",
   "metadata": {},
   "source": [
    "### 5.1 Selecting relevant columns"
   ]
  },
  {
   "cell_type": "code",
   "execution_count": 9,
   "id": "fc53dcda",
   "metadata": {},
   "outputs": [
    {
     "data": {
      "application/vnd.microsoft.datawrangler.viewer.v0+json": {
       "columns": [
        {
         "name": "index",
         "rawType": "int64",
         "type": "integer"
        },
        {
         "name": "Title",
         "rawType": "object",
         "type": "string"
        },
        {
         "name": "imdbID",
         "rawType": "object",
         "type": "string"
        },
        {
         "name": "Year",
         "rawType": "object",
         "type": "string"
        },
        {
         "name": "Genre",
         "rawType": "object",
         "type": "string"
        },
        {
         "name": "Director",
         "rawType": "object",
         "type": "string"
        },
        {
         "name": "Actors",
         "rawType": "object",
         "type": "string"
        },
        {
         "name": "Language",
         "rawType": "object",
         "type": "string"
        },
        {
         "name": "Country",
         "rawType": "object",
         "type": "string"
        },
        {
         "name": "Runtime",
         "rawType": "object",
         "type": "string"
        },
        {
         "name": "BoxOffice",
         "rawType": "object",
         "type": "string"
        },
        {
         "name": "imdbRating",
         "rawType": "object",
         "type": "string"
        },
        {
         "name": "imdbVotes",
         "rawType": "object",
         "type": "string"
        },
        {
         "name": "Awards",
         "rawType": "object",
         "type": "string"
        },
        {
         "name": "Type",
         "rawType": "object",
         "type": "string"
        }
       ],
       "ref": "d6e82150-fd21-42d1-8a2f-167f766b0ad8",
       "rows": [
        [
         "0",
         "Good Guys Wear Black",
         "tt0079227",
         "1978",
         "Action",
         "Ted Post",
         "Chuck Norris, Anne Archer, James Franciscus",
         "English",
         "United States",
         "95 min",
         "N/A",
         "5.1",
         "3,865",
         "N/A",
         "movie"
        ],
        [
         "1",
         "Grizzly",
         "tt0074593",
         "1976",
         "Adventure, Horror, Thriller",
         "William Girdler",
         "Christopher George, Andrew Prine, Richard Jaeckel",
         "English",
         "United States",
         "91 min",
         "N/A",
         "5.2",
         "6,166",
         "N/A",
         "movie"
        ],
        [
         "2",
         "Midnight Express",
         "tt0077928",
         "1978",
         "Biography, Crime, Drama",
         "Alan Parker",
         "Brad Davis, Irene Miracle, Bo Hopkins",
         "English, Turkish, French",
         "United Kingdom, United States",
         "121 min",
         "$35,000,000",
         "7.5",
         "90,240",
         "Won 2 Oscars. 17 wins & 14 nominations total",
         "movie"
        ]
       ],
       "shape": {
        "columns": 14,
        "rows": 3
       }
      },
      "text/html": [
       "<div>\n",
       "<style scoped>\n",
       "    .dataframe tbody tr th:only-of-type {\n",
       "        vertical-align: middle;\n",
       "    }\n",
       "\n",
       "    .dataframe tbody tr th {\n",
       "        vertical-align: top;\n",
       "    }\n",
       "\n",
       "    .dataframe thead th {\n",
       "        text-align: right;\n",
       "    }\n",
       "</style>\n",
       "<table border=\"1\" class=\"dataframe\">\n",
       "  <thead>\n",
       "    <tr style=\"text-align: right;\">\n",
       "      <th></th>\n",
       "      <th>Title</th>\n",
       "      <th>imdbID</th>\n",
       "      <th>Year</th>\n",
       "      <th>Genre</th>\n",
       "      <th>Director</th>\n",
       "      <th>Actors</th>\n",
       "      <th>Language</th>\n",
       "      <th>Country</th>\n",
       "      <th>Runtime</th>\n",
       "      <th>BoxOffice</th>\n",
       "      <th>imdbRating</th>\n",
       "      <th>imdbVotes</th>\n",
       "      <th>Awards</th>\n",
       "      <th>Type</th>\n",
       "    </tr>\n",
       "  </thead>\n",
       "  <tbody>\n",
       "    <tr>\n",
       "      <th>0</th>\n",
       "      <td>Good Guys Wear Black</td>\n",
       "      <td>tt0079227</td>\n",
       "      <td>1978</td>\n",
       "      <td>Action</td>\n",
       "      <td>Ted Post</td>\n",
       "      <td>Chuck Norris, Anne Archer, James Franciscus</td>\n",
       "      <td>English</td>\n",
       "      <td>United States</td>\n",
       "      <td>95 min</td>\n",
       "      <td>N/A</td>\n",
       "      <td>5.1</td>\n",
       "      <td>3,865</td>\n",
       "      <td>N/A</td>\n",
       "      <td>movie</td>\n",
       "    </tr>\n",
       "    <tr>\n",
       "      <th>1</th>\n",
       "      <td>Grizzly</td>\n",
       "      <td>tt0074593</td>\n",
       "      <td>1976</td>\n",
       "      <td>Adventure, Horror, Thriller</td>\n",
       "      <td>William Girdler</td>\n",
       "      <td>Christopher George, Andrew Prine, Richard Jaeckel</td>\n",
       "      <td>English</td>\n",
       "      <td>United States</td>\n",
       "      <td>91 min</td>\n",
       "      <td>N/A</td>\n",
       "      <td>5.2</td>\n",
       "      <td>6,166</td>\n",
       "      <td>N/A</td>\n",
       "      <td>movie</td>\n",
       "    </tr>\n",
       "    <tr>\n",
       "      <th>2</th>\n",
       "      <td>Midnight Express</td>\n",
       "      <td>tt0077928</td>\n",
       "      <td>1978</td>\n",
       "      <td>Biography, Crime, Drama</td>\n",
       "      <td>Alan Parker</td>\n",
       "      <td>Brad Davis, Irene Miracle, Bo Hopkins</td>\n",
       "      <td>English, Turkish, French</td>\n",
       "      <td>United Kingdom, United States</td>\n",
       "      <td>121 min</td>\n",
       "      <td>$35,000,000</td>\n",
       "      <td>7.5</td>\n",
       "      <td>90,240</td>\n",
       "      <td>Won 2 Oscars. 17 wins &amp; 14 nominations total</td>\n",
       "      <td>movie</td>\n",
       "    </tr>\n",
       "  </tbody>\n",
       "</table>\n",
       "</div>"
      ],
      "text/plain": [
       "                  Title     imdbID  Year                        Genre  \\\n",
       "0  Good Guys Wear Black  tt0079227  1978                       Action   \n",
       "1               Grizzly  tt0074593  1976  Adventure, Horror, Thriller   \n",
       "2      Midnight Express  tt0077928  1978      Biography, Crime, Drama   \n",
       "\n",
       "          Director                                             Actors  \\\n",
       "0         Ted Post        Chuck Norris, Anne Archer, James Franciscus   \n",
       "1  William Girdler  Christopher George, Andrew Prine, Richard Jaeckel   \n",
       "2      Alan Parker              Brad Davis, Irene Miracle, Bo Hopkins   \n",
       "\n",
       "                   Language                        Country  Runtime  \\\n",
       "0                   English                  United States   95 min   \n",
       "1                   English                  United States   91 min   \n",
       "2  English, Turkish, French  United Kingdom, United States  121 min   \n",
       "\n",
       "     BoxOffice imdbRating imdbVotes  \\\n",
       "0          N/A        5.1     3,865   \n",
       "1          N/A        5.2     6,166   \n",
       "2  $35,000,000        7.5    90,240   \n",
       "\n",
       "                                         Awards   Type  \n",
       "0                                           N/A  movie  \n",
       "1                                           N/A  movie  \n",
       "2  Won 2 Oscars. 17 wins & 14 nominations total  movie  "
      ]
     },
     "execution_count": 9,
     "metadata": {},
     "output_type": "execute_result"
    }
   ],
   "source": [
    "columns_to_keep = [\n",
    "    \"Title\", \"imdbID\", \"Year\", \"Genre\", \"Director\", \"Actors\", \"Language\",\n",
    "    \"Country\", \"Runtime\", \"BoxOffice\", \"imdbRating\", \"imdbVotes\", \"Awards\", \"Type\"\n",
    "]\n",
    "\n",
    "df = df[columns_to_keep]\n",
    "df.head(3)"
   ]
  },
  {
   "cell_type": "markdown",
   "id": "60abae73",
   "metadata": {},
   "source": [
    "### 5.2 Cleaning numeric fields + budget columb"
   ]
  },
  {
   "cell_type": "code",
   "execution_count": 10,
   "id": "dd0eccf0",
   "metadata": {},
   "outputs": [],
   "source": [
    "#BoxOffice to integer\n",
    "df[\"BoxOffice\"] = df[\"BoxOffice\"].replace(\"N/A\", pd.NA)\n",
    "df[\"BoxOffice\"] = df[\"BoxOffice\"].dropna().apply(\n",
    "    lambda x: int(re.sub(r\"[\\$,]\", \"\", x)) if isinstance(x, str) else pd.NA\n",
    ")\n",
    "\n",
    "#imdbRating to float\n",
    "df[\"imdbRating\"] = pd.to_numeric(df[\"imdbRating\"], errors=\"coerce\")\n",
    "\n",
    "#imdbVotes to integer\n",
    "df[\"imdbVotes\"] = df[\"imdbVotes\"].replace(\"N/A\", pd.NA)\n",
    "df[\"imdbVotes\"] = df[\"imdbVotes\"].dropna().apply(\n",
    "    lambda x: int(x.replace(\",\", \"\")) if isinstance(x, str) else pd.NA\n",
    ")\n",
    "\n",
    "# here we wanna merge budget from the original Kaggle metadata\n",
    "meta_budget = pd.read_csv(\n",
    "    metadata_path,\n",
    "    usecols=[\"imdb_id\", \"budget\"],\n",
    "    low_memory=False\n",
    ")\n",
    "meta_budget[\"budget\"] = pd.to_numeric(meta_budget[\"budget\"], errors=\"coerce\")\n",
    "meta_budget = meta_budget.rename(columns={\"imdb_id\": \"imdbID\"})\n",
    "\n",
    "# we do the left-join\n",
    "df = df.merge(\n",
    "    meta_budget[[\"imdbID\", \"budget\"]],\n",
    "    on=\"imdbID\",\n",
    "    how=\"left\"\n",
    ")\n",
    "\n",
    "# saving cleaned data to csv\n",
    "df.to_csv(csv_output_path, index=False)"
   ]
  },
  {
   "cell_type": "markdown",
   "id": "dfb62660",
   "metadata": {},
   "source": [
    "### 5.3 Removing duplicates"
   ]
  },
  {
   "cell_type": "code",
   "execution_count": 11,
   "id": "18ca477d",
   "metadata": {},
   "outputs": [
    {
     "name": "stdout",
     "output_type": "stream",
     "text": [
      "Dropped 80 duplicate records; 4688 unique movies remain.\n"
     ]
    }
   ],
   "source": [
    "before = len(df)\n",
    "df = df.drop_duplicates(subset=[\"imdbID\"], keep=\"first\").reset_index(drop=True)\n",
    "after = len(df)\n",
    "print(f\"Dropped {before - after} duplicate records; {after} unique movies remain.\")"
   ]
  },
  {
   "cell_type": "markdown",
   "id": "4252446e",
   "metadata": {},
   "source": [
    "### 5.4 Zeros to NaN in BoxOffice"
   ]
  },
  {
   "cell_type": "code",
   "execution_count": 12,
   "id": "a56782d4",
   "metadata": {},
   "outputs": [],
   "source": [
    "df[\"BoxOffice_was_missing\"] = (df[\"BoxOffice\"] == 0)\n",
    "\n",
    "df.loc[df[\"BoxOffice\"] == 0, \"BoxOffice\"] = pd.NA\n",
    "\n",
    "zero_count = df[\"BoxOffice_was_missing\"].sum()\n",
    "nan_count  = df[\"BoxOffice\"].isna().sum()"
   ]
  },
  {
   "cell_type": "markdown",
   "id": "6aa0b324",
   "metadata": {},
   "source": [
    "## 6. Box Office Missing Values\n",
    "\n",
    "After cleaning, we check how many movies do not contain valid box office revenue data."
   ]
  },
  {
   "cell_type": "code",
   "execution_count": 13,
   "id": "da5cc0ed",
   "metadata": {},
   "outputs": [
    {
     "name": "stdout",
     "output_type": "stream",
     "text": [
      "1902 out of 4688 movies are missing BoxOffice data.\n"
     ]
    }
   ],
   "source": [
    "boxoffice_miss = df[df[\"BoxOffice\"].isna()]\n",
    "print(f\"{len(boxoffice_miss)} out of {len(df)} movies are missing BoxOffice data.\")"
   ]
  },
  {
   "cell_type": "markdown",
   "id": "8f68bbb0",
   "metadata": {},
   "source": [
    "### 6.1 Merging IMDb and TMDb IDs\n",
    "\n",
    "1 load raw json and locate imdbID\n",
    "\n",
    "2 join with links.csv from Kaggle to get tmdb \n",
    "\n",
    "\n",
    "\n",
    "TMDB\n",
    "API KEY - 1d779d5d4246f2809fc00d7729449f09\n",
    "API Read Access Token - eyJhbGciOiJIUzI1NiJ9\n",
    "\n"
   ]
  },
  {
   "cell_type": "code",
   "execution_count": 14,
   "id": "ecf67b62",
   "metadata": {},
   "outputs": [],
   "source": [
    "# I load json as dataframe\n",
    "with open(json_path, \"r\", encoding=\"utf-8\") as f:\n",
    "    omdb_raw = json.load(f)\n",
    "omdb_raw_df = pd.DataFrame(omdb_raw)\n",
    "\n",
    "# links.csv dataframe from Kaggle(imdbId keyword)\n",
    "links_path = os.path.join(base_dir, \"..\", \"data_collection\", \"Kaggle The Movies Dataset\", \"links.csv\")\n",
    "links_df = pd.read_csv(links_path, usecols=[\"imdbId\", \"tmdbId\"])\n",
    "\n",
    "missing = df[df[\"BoxOffice\"].isna()].copy() # titles still missing Boxofice\n",
    "\n",
    "# taking out numbers from imdbID field tt0123456 to 123456\n",
    "missing[\"imdbId_numeric\"] = (missing[\"imdbID\"]\n",
    "    .str.replace(\"^tt\", \"\", regex=True)\n",
    "    .astype(\"Int64\")\n",
    ")\n",
    "\n",
    "missing = missing.merge( # and now merge on that numeric field\n",
    "    links_df, left_on=\"imdbId_numeric\", right_on=\"imdbId\", how=\"left\")"
   ]
  },
  {
   "cell_type": "markdown",
   "id": "a670db21",
   "metadata": {},
   "source": [
    "### 6.2 Save enhanced missing list\n",
    "\n",
    "a"
   ]
  },
  {
   "cell_type": "code",
   "execution_count": 15,
   "id": "ebb69160",
   "metadata": {},
   "outputs": [
    {
     "name": "stdout",
     "output_type": "stream",
     "text": [
      "Enhanced missing list (1902) was saved to c:\\PythonProjects\\Movie-Team\\jupyter notebooks\\..\\data_collection\\missing_boxoffice_enhanced.csv\n"
     ]
    }
   ],
   "source": [
    "enhanced_cols = [\"Title\",\"imdbID\",\"tmdbId\"]\n",
    "enhanced_path = os.path.join(\n",
    "    base_dir, \"..\", \"data_collection\", \"missing_boxoffice_enhanced.csv\"\n",
    ")\n",
    "missing[enhanced_cols].to_csv(enhanced_path, index=False)\n",
    "print(f\"Enhanced missing list ({len(missing)}) was saved to {enhanced_path}\")"
   ]
  },
  {
   "cell_type": "markdown",
   "id": "7c8d332a",
   "metadata": {},
   "source": [
    "### 6.3 TMDb API call\n",
    "\n",
    "There we call TMDb to fill in `revenue` where boxoffice is EMPTY\n",
    "\n",
    "refer to `tmdb_fetch.py` script to replicate\n",
    "\n",
    "1657 out of 1919 missing revenue movies have been successfully fetched!"
   ]
  },
  {
   "cell_type": "code",
   "execution_count": 16,
   "id": "99339526",
   "metadata": {},
   "outputs": [],
   "source": [
    "# python tmdb_fetch.py"
   ]
  },
  {
   "cell_type": "markdown",
   "id": "ac9c2e00",
   "metadata": {},
   "source": [
    "### 6.4 Merging TMDb revenues with `df`\n",
    "\n",
    "\n",
    "text"
   ]
  },
  {
   "cell_type": "code",
   "execution_count": 17,
   "id": "19599027",
   "metadata": {},
   "outputs": [
    {
     "name": "stdout",
     "output_type": "stream",
     "text": [
      "256 out of 4688 movies still have no BoxOffice after TMDb API calling.\n"
     ]
    }
   ],
   "source": [
    "tmdb_rev = pd.read_csv(\n",
    "    os.path.join(base_dir, \"..\", \"data_collection\", \"tmdb_revenues.csv\")\n",
    ")\n",
    "\n",
    "#merging into df by title\n",
    "df = df.merge(tmdb_rev[[\"Title\",\"BoxOffice\"]],\n",
    "    on=\"Title\", how=\"left\", suffixes=(\"\", \"_tmdb\")\n",
    ")\n",
    "\n",
    "#wherever BoxOffice is null = fill from the tmdb column\n",
    "df[\"BoxOffice\"] = df[\"BoxOffice\"].fillna(df[\"BoxOffice_tmdb\"])\n",
    "df = df.drop(columns=[\"BoxOffice_tmdb\"])\n",
    "\n",
    "still_missing = df[\"BoxOffice\"].isna().sum()\n",
    "total_movies  = len(df)\n",
    "print(f\"{still_missing} out of {total_movies} movies still have no BoxOffice after TMDb API calling.\")"
   ]
  },
  {
   "cell_type": "markdown",
   "id": "774af715",
   "metadata": {},
   "source": [
    "### 6.5 Building the scraper list\n",
    "\n",
    "here we are going to find still missing revenue 262 movies\n",
    "\n",
    "THose 262 titles fall into 2 possible categories:\n",
    "\n",
    "- no tmdb ID at all (hence we couldn't call TMDb API)\n",
    "- title has tmdb id but API returned zero because it may not track this title\n",
    "\n",
    "That being said, we will use \"The-Numbers\" in order to scrape them again!\n"
   ]
  },
  {
   "cell_type": "code",
   "execution_count": 18,
   "id": "e21ff251",
   "metadata": {},
   "outputs": [
    {
     "name": "stdout",
     "output_type": "stream",
     "text": [
      "256 titles to scrape are saved to c:\\PythonProjects\\Movie-Team\\jupyter notebooks\\..\\data_collection\\fallback_boxoffice.csv\n"
     ]
    }
   ],
   "source": [
    "#still missing titles\n",
    "still_missing_titles = df[df[\"BoxOffice\"].isna()][\"Title\"]\n",
    "\n",
    "# filtering missing titles DataFrame (the one with tmdbId) by those titles\n",
    "fallback = missing[missing[\"Title\"].isin(still_missing_titles)][\n",
    "    [\"Title\",\"imdbID\",\"tmdbId\"]\n",
    "]\n",
    "\n",
    "fallback_path = os.path.join(\n",
    "    base_dir, \"..\", \"data_collection\", \"fallback_boxoffice.csv\"\n",
    ")\n",
    "fallback.to_csv(fallback_path, index=False)\n",
    "\n",
    "print(f\"{len(fallback)} titles to scrape are saved to {fallback_path}\")"
   ]
  },
  {
   "cell_type": "markdown",
   "id": "647e310c",
   "metadata": {},
   "source": [
    "### 6.6 Scraping on The-Numbers\n",
    "\n",
    "To replicate, refer to `thenumbers_fetch.py`\n"
   ]
  },
  {
   "cell_type": "code",
   "execution_count": 19,
   "id": "ce043dd2",
   "metadata": {},
   "outputs": [],
   "source": [
    "# python thenumbers_fetch.py"
   ]
  },
  {
   "cell_type": "markdown",
   "id": "15e86021",
   "metadata": {},
   "source": [
    "Unfortunately, all of 262 titles couldn't get the box office information. In such case we replace their values onto NaN and keep them for further exploratory work."
   ]
  },
  {
   "cell_type": "markdown",
   "id": "5a199558",
   "metadata": {},
   "source": [
    "### 6.7 \"Zeros\" to NaN in boxoffice\n"
   ]
  },
  {
   "cell_type": "code",
   "execution_count": 20,
   "id": "2c219601",
   "metadata": {},
   "outputs": [
    {
     "name": "stdout",
     "output_type": "stream",
     "text": [
      "1411 movies had zero BoxOffice and are now NaN (total NaNs: 1667)\n"
     ]
    }
   ],
   "source": [
    "df[\"BoxOffice_was_missing\"] = (df[\"BoxOffice\"] == 0)\n",
    "\n",
    "# zeros to NaN\n",
    "df.loc[df[\"BoxOffice\"] == 0, \"BoxOffice\"] = pd.NA\n",
    "\n",
    "zero_count = (df[\"BoxOffice_was_missing\"]).sum()\n",
    "nan_count  = df[\"BoxOffice\"].isna().sum()\n",
    "print(f\"{zero_count} movies had zero BoxOffice and are now NaN (total NaNs: {nan_count})\")"
   ]
  },
  {
   "cell_type": "markdown",
   "id": "82f741b4",
   "metadata": {},
   "source": [
    "## 7. Final Data Overview\n",
    "\n",
    "- missing BoxOffice values are converted to NaN\n",
    "- Key numeric summaries (e.g. ratings, votes..)\n",
    "- ..."
   ]
  },
  {
   "cell_type": "code",
   "execution_count": 21,
   "id": "f4122355",
   "metadata": {},
   "outputs": [
    {
     "name": "stdout",
     "output_type": "stream",
     "text": [
      "BoxOffice == 0:    0 movies\n",
      "BoxOffice is NaN:  1667 movies\n",
      "BoxOffice > 0:     3021 movies\n",
      "Total checked:     4688 movies\n"
     ]
    }
   ],
   "source": [
    "zero_count     = (df[\"BoxOffice\"] == 0).sum()\n",
    "na_count       = df[\"BoxOffice\"].isna().sum()\n",
    "positive_count = (df[\"BoxOffice\"] > 0).sum()\n",
    "total          = len(df)\n",
    "\n",
    "print(f\"BoxOffice == 0:    {zero_count} movies\")\n",
    "print(f\"BoxOffice is NaN:  {na_count} movies\")\n",
    "print(f\"BoxOffice > 0:     {positive_count} movies\")\n",
    "print(f\"Total checked:     {total} movies\")\n"
   ]
  },
  {
   "cell_type": "code",
   "execution_count": 22,
   "id": "4340ee88",
   "metadata": {},
   "outputs": [
    {
     "data": {
      "application/vnd.microsoft.datawrangler.viewer.v0+json": {
       "columns": [
        {
         "name": "index",
         "rawType": "object",
         "type": "string"
        },
        {
         "name": "count",
         "rawType": "float64",
         "type": "float"
        },
        {
         "name": "mean",
         "rawType": "float64",
         "type": "float"
        },
        {
         "name": "std",
         "rawType": "float64",
         "type": "float"
        },
        {
         "name": "min",
         "rawType": "float64",
         "type": "float"
        },
        {
         "name": "25%",
         "rawType": "float64",
         "type": "float"
        },
        {
         "name": "50%",
         "rawType": "float64",
         "type": "float"
        },
        {
         "name": "75%",
         "rawType": "float64",
         "type": "float"
        },
        {
         "name": "max",
         "rawType": "float64",
         "type": "float"
        },
        {
         "name": "missing",
         "rawType": "int64",
         "type": "integer"
        }
       ],
       "ref": "42d23966-a9b1-452a-9719-bf46411ab08a",
       "rows": [
        [
         "BoxOffice",
         "3021.0",
         "43689082.418404505",
         "73714418.07689752",
         "13.0",
         "1436243.0",
         "15379253.0",
         "51293931.0",
         "785221649.0",
         "1667"
        ],
        [
         "imdbRating",
         "4630.0",
         "6.307732181425486",
         "1.118031398396185",
         "1.3",
         "5.7",
         "6.4",
         "7.1",
         "9.5",
         "58"
        ],
        [
         "imdbVotes",
         "4646.0",
         "86162.01076194576",
         "205688.18422910204",
         "5.0",
         "2129.5",
         "11969.5",
         "70352.75",
         "2997696.0",
         "42"
        ]
       ],
       "shape": {
        "columns": 9,
        "rows": 3
       }
      },
      "text/html": [
       "<div>\n",
       "<style scoped>\n",
       "    .dataframe tbody tr th:only-of-type {\n",
       "        vertical-align: middle;\n",
       "    }\n",
       "\n",
       "    .dataframe tbody tr th {\n",
       "        vertical-align: top;\n",
       "    }\n",
       "\n",
       "    .dataframe thead th {\n",
       "        text-align: right;\n",
       "    }\n",
       "</style>\n",
       "<table border=\"1\" class=\"dataframe\">\n",
       "  <thead>\n",
       "    <tr style=\"text-align: right;\">\n",
       "      <th></th>\n",
       "      <th>count</th>\n",
       "      <th>mean</th>\n",
       "      <th>std</th>\n",
       "      <th>min</th>\n",
       "      <th>25%</th>\n",
       "      <th>50%</th>\n",
       "      <th>75%</th>\n",
       "      <th>max</th>\n",
       "      <th>missing</th>\n",
       "    </tr>\n",
       "  </thead>\n",
       "  <tbody>\n",
       "    <tr>\n",
       "      <th>BoxOffice</th>\n",
       "      <td>3021.0</td>\n",
       "      <td>4.368908e+07</td>\n",
       "      <td>7.371442e+07</td>\n",
       "      <td>13.0</td>\n",
       "      <td>1436243.0</td>\n",
       "      <td>15379253.0</td>\n",
       "      <td>51293931.00</td>\n",
       "      <td>785221649.0</td>\n",
       "      <td>1667</td>\n",
       "    </tr>\n",
       "    <tr>\n",
       "      <th>imdbRating</th>\n",
       "      <td>4630.0</td>\n",
       "      <td>6.307732e+00</td>\n",
       "      <td>1.118031e+00</td>\n",
       "      <td>1.3</td>\n",
       "      <td>5.7</td>\n",
       "      <td>6.4</td>\n",
       "      <td>7.10</td>\n",
       "      <td>9.5</td>\n",
       "      <td>58</td>\n",
       "    </tr>\n",
       "    <tr>\n",
       "      <th>imdbVotes</th>\n",
       "      <td>4646.0</td>\n",
       "      <td>8.616201e+04</td>\n",
       "      <td>2.056882e+05</td>\n",
       "      <td>5.0</td>\n",
       "      <td>2129.5</td>\n",
       "      <td>11969.5</td>\n",
       "      <td>70352.75</td>\n",
       "      <td>2997696.0</td>\n",
       "      <td>42</td>\n",
       "    </tr>\n",
       "  </tbody>\n",
       "</table>\n",
       "</div>"
      ],
      "text/plain": [
       "             count          mean           std   min        25%         50%  \\\n",
       "BoxOffice   3021.0  4.368908e+07  7.371442e+07  13.0  1436243.0  15379253.0   \n",
       "imdbRating  4630.0  6.307732e+00  1.118031e+00   1.3        5.7         6.4   \n",
       "imdbVotes   4646.0  8.616201e+04  2.056882e+05   5.0     2129.5     11969.5   \n",
       "\n",
       "                    75%          max  missing  \n",
       "BoxOffice   51293931.00  785221649.0     1667  \n",
       "imdbRating         7.10          9.5       58  \n",
       "imdbVotes      70352.75    2997696.0       42  "
      ]
     },
     "metadata": {},
     "output_type": "display_data"
    }
   ],
   "source": [
    "summary = df[[\"BoxOffice\", \"imdbRating\", \"imdbVotes\", \"Runtime\"]].describe().T\n",
    "\n",
    "numeric_cols = summary.index.tolist()\n",
    "missing_counts = df[numeric_cols].isna().sum()\n",
    "summary[\"missing\"] = missing_counts\n",
    "\n",
    "display(summary)"
   ]
  },
  {
   "cell_type": "code",
   "execution_count": 23,
   "id": "96b5697c",
   "metadata": {},
   "outputs": [
    {
     "name": "stdout",
     "output_type": "stream",
     "text": [
      "Top 5 movies by BoxOffice:\n"
     ]
    },
    {
     "data": {
      "application/vnd.microsoft.datawrangler.viewer.v0+json": {
       "columns": [
        {
         "name": "index",
         "rawType": "int64",
         "type": "integer"
        },
        {
         "name": "Title",
         "rawType": "object",
         "type": "string"
        },
        {
         "name": "Year",
         "rawType": "object",
         "type": "string"
        },
        {
         "name": "BoxOffice",
         "rawType": "float64",
         "type": "float"
        }
       ],
       "ref": "f60da634-1d42-4575-9a81-d493a904090f",
       "rows": [
        [
         "2014",
         "Avatar",
         "2009",
         "785221649.0"
        ],
        [
         "971",
         "Titanic",
         "1997",
         "674354882.0"
        ],
        [
         "2736",
         "Jurassic World",
         "2015",
         "653406625.0"
        ],
        [
         "2842",
         "The Avengers",
         "2012",
         "623357910.0"
        ],
        [
         "1982",
         "The Dark Knight",
         "2008",
         "534987076.0"
        ]
       ],
       "shape": {
        "columns": 3,
        "rows": 5
       }
      },
      "text/html": [
       "<div>\n",
       "<style scoped>\n",
       "    .dataframe tbody tr th:only-of-type {\n",
       "        vertical-align: middle;\n",
       "    }\n",
       "\n",
       "    .dataframe tbody tr th {\n",
       "        vertical-align: top;\n",
       "    }\n",
       "\n",
       "    .dataframe thead th {\n",
       "        text-align: right;\n",
       "    }\n",
       "</style>\n",
       "<table border=\"1\" class=\"dataframe\">\n",
       "  <thead>\n",
       "    <tr style=\"text-align: right;\">\n",
       "      <th></th>\n",
       "      <th>Title</th>\n",
       "      <th>Year</th>\n",
       "      <th>BoxOffice</th>\n",
       "    </tr>\n",
       "  </thead>\n",
       "  <tbody>\n",
       "    <tr>\n",
       "      <th>2014</th>\n",
       "      <td>Avatar</td>\n",
       "      <td>2009</td>\n",
       "      <td>785221649.0</td>\n",
       "    </tr>\n",
       "    <tr>\n",
       "      <th>971</th>\n",
       "      <td>Titanic</td>\n",
       "      <td>1997</td>\n",
       "      <td>674354882.0</td>\n",
       "    </tr>\n",
       "    <tr>\n",
       "      <th>2736</th>\n",
       "      <td>Jurassic World</td>\n",
       "      <td>2015</td>\n",
       "      <td>653406625.0</td>\n",
       "    </tr>\n",
       "    <tr>\n",
       "      <th>2842</th>\n",
       "      <td>The Avengers</td>\n",
       "      <td>2012</td>\n",
       "      <td>623357910.0</td>\n",
       "    </tr>\n",
       "    <tr>\n",
       "      <th>1982</th>\n",
       "      <td>The Dark Knight</td>\n",
       "      <td>2008</td>\n",
       "      <td>534987076.0</td>\n",
       "    </tr>\n",
       "  </tbody>\n",
       "</table>\n",
       "</div>"
      ],
      "text/plain": [
       "                Title  Year    BoxOffice\n",
       "2014           Avatar  2009  785221649.0\n",
       "971           Titanic  1997  674354882.0\n",
       "2736   Jurassic World  2015  653406625.0\n",
       "2842     The Avengers  2012  623357910.0\n",
       "1982  The Dark Knight  2008  534987076.0"
      ]
     },
     "metadata": {},
     "output_type": "display_data"
    },
    {
     "name": "stdout",
     "output_type": "stream",
     "text": [
      "\n",
      "5 lowest movies by BoxOffice:\n"
     ]
    },
    {
     "data": {
      "application/vnd.microsoft.datawrangler.viewer.v0+json": {
       "columns": [
        {
         "name": "index",
         "rawType": "int64",
         "type": "integer"
        },
        {
         "name": "Title",
         "rawType": "object",
         "type": "string"
        },
        {
         "name": "Year",
         "rawType": "object",
         "type": "string"
        },
        {
         "name": "BoxOffice",
         "rawType": "float64",
         "type": "float"
        }
       ],
       "ref": "82d6aa34-621e-48e3-bbc4-66f0451360ad",
       "rows": [
        [
         "2153",
         "The King of Pigs",
         "2011",
         "13.0"
        ],
        [
         "3506",
         "Windwalker",
         "1980",
         "18.0"
        ],
        [
         "889",
         "The Immortals",
         "1995",
         "83.0"
        ],
        [
         "1567",
         "The Pornographer",
         "2001",
         "126.0"
        ],
        [
         "2422",
         "Playback",
         "2012",
         "264.0"
        ],
        [
         "3832",
         "Musudan",
         "2016",
         "500.0"
        ],
        [
         "4542",
         "The Green Room",
         "1978",
         "509.0"
        ],
        [
         "2395",
         "Max & Leon",
         "2016",
         "543.0"
        ],
        [
         "2590",
         "United Passions",
         "2014",
         "607.0"
        ],
        [
         "2374",
         "Syrup",
         "2013",
         "663.0"
        ],
        [
         "1848",
         "Far Cry",
         "2008",
         "743.0"
        ],
        [
         "2442",
         "Next Time I'll Aim for the Heart",
         "2014",
         "815.0"
        ],
        [
         "126",
         "The Last Wave",
         "1977",
         "957.0"
        ],
        [
         "3018",
         "Lilian's Story",
         "1996",
         "1220.0"
        ],
        [
         "3894",
         "Skin Trade",
         "2014",
         "1242.0"
        ],
        [
         "1396",
         "Adam's Apples",
         "2005",
         "1305.0"
        ],
        [
         "4286",
         "Along the Roadside",
         "2013",
         "1352.0"
        ],
        [
         "4025",
         "The Outcasts",
         "2017",
         "1455.0"
        ],
        [
         "3723",
         "Rhymes for Young Ghouls",
         "2013",
         "1529.0"
        ],
        [
         "768",
         "Running Time",
         "1997",
         "1596.0"
        ],
        [
         "772",
         "The Sticky Fingers of Time",
         "1997",
         "1610.0"
        ],
        [
         "2469",
         "Chalet Girl",
         "2011",
         "1710.0"
        ],
        [
         "2104",
         "Detention of the Dead",
         "2012",
         "1777.0"
        ],
        [
         "3874",
         "Sneakerheadz",
         "2015",
         "1903.0"
        ],
        [
         "4128",
         "American Strays",
         "1996",
         "1910.0"
        ],
        [
         "2243",
         "Best Man Down",
         "2012",
         "1938.0"
        ],
        [
         "3182",
         "Accidental Courtesy: Daryl Davis, Race & America",
         "2016",
         "1940.0"
        ],
        [
         "3557",
         "As Good as Dead",
         "2010",
         "1981.0"
        ],
        [
         "3328",
         "The Velocity of Gary",
         "1998",
         "2143.0"
        ],
        [
         "3141",
         "The Lady in the Car with Glasses and a Gun",
         "2015",
         "2167.0"
        ],
        [
         "3216",
         "Miles",
         "2016",
         "2537.0"
        ],
        [
         "3641",
         "Two-Bit Waltz",
         "2014",
         "2540.0"
        ],
        [
         "2399",
         "Main Street",
         "2010",
         "2560.0"
        ],
        [
         "2123",
         "Sparrows Dance",
         "2012",
         "2602.0"
        ],
        [
         "3026",
         "I Shot a Man in Vegas",
         "1995",
         "2684.0"
        ],
        [
         "1762",
         "Eichmann",
         "2007",
         "2706.0"
        ],
        [
         "750",
         "Philadelphia Experiment II",
         "1993",
         "2970.0"
        ],
        [
         "3397",
         "The Stroller Strategy",
         "2012",
         "3462.0"
        ],
        [
         "4104",
         "In the Basement",
         "2014",
         "3643.0"
        ],
        [
         "4171",
         "Bird of Prey",
         "1995",
         "3652.0"
        ],
        [
         "2295",
         "Passion Play",
         "2010",
         "3669.0"
        ],
        [
         "4082",
         "Three Night Stand",
         "2013",
         "4076.0"
        ],
        [
         "3029",
         "Stella Street",
         "2004",
         "4119.0"
        ],
        [
         "2608",
         "Pawn",
         "2013",
         "4141.0"
        ],
        [
         "2997",
         "Melvin Goes to Dinner",
         "2003",
         "4168.0"
        ],
        [
         "3837",
         "I Love You Both",
         "2016",
         "4661.0"
        ],
        [
         "3267",
         "The Souler Opposite",
         "1998",
         "4801.0"
        ],
        [
         "2939",
         "The Oxford Murders",
         "2008",
         "4803.0"
        ],
        [
         "3686",
         "Bloodbrothers",
         "1978",
         "4844.0"
        ],
        [
         "2093",
         "Newlyweds",
         "2011",
         "5000.0"
        ]
       ],
       "shape": {
        "columns": 3,
        "rows": 500
       }
      },
      "text/html": [
       "<div>\n",
       "<style scoped>\n",
       "    .dataframe tbody tr th:only-of-type {\n",
       "        vertical-align: middle;\n",
       "    }\n",
       "\n",
       "    .dataframe tbody tr th {\n",
       "        vertical-align: top;\n",
       "    }\n",
       "\n",
       "    .dataframe thead th {\n",
       "        text-align: right;\n",
       "    }\n",
       "</style>\n",
       "<table border=\"1\" class=\"dataframe\">\n",
       "  <thead>\n",
       "    <tr style=\"text-align: right;\">\n",
       "      <th></th>\n",
       "      <th>Title</th>\n",
       "      <th>Year</th>\n",
       "      <th>BoxOffice</th>\n",
       "    </tr>\n",
       "  </thead>\n",
       "  <tbody>\n",
       "    <tr>\n",
       "      <th>2153</th>\n",
       "      <td>The King of Pigs</td>\n",
       "      <td>2011</td>\n",
       "      <td>13.0</td>\n",
       "    </tr>\n",
       "    <tr>\n",
       "      <th>3506</th>\n",
       "      <td>Windwalker</td>\n",
       "      <td>1980</td>\n",
       "      <td>18.0</td>\n",
       "    </tr>\n",
       "    <tr>\n",
       "      <th>889</th>\n",
       "      <td>The Immortals</td>\n",
       "      <td>1995</td>\n",
       "      <td>83.0</td>\n",
       "    </tr>\n",
       "    <tr>\n",
       "      <th>1567</th>\n",
       "      <td>The Pornographer</td>\n",
       "      <td>2001</td>\n",
       "      <td>126.0</td>\n",
       "    </tr>\n",
       "    <tr>\n",
       "      <th>2422</th>\n",
       "      <td>Playback</td>\n",
       "      <td>2012</td>\n",
       "      <td>264.0</td>\n",
       "    </tr>\n",
       "    <tr>\n",
       "      <th>...</th>\n",
       "      <td>...</td>\n",
       "      <td>...</td>\n",
       "      <td>...</td>\n",
       "    </tr>\n",
       "    <tr>\n",
       "      <th>3188</th>\n",
       "      <td>Koch</td>\n",
       "      <td>2012</td>\n",
       "      <td>342941.0</td>\n",
       "    </tr>\n",
       "    <tr>\n",
       "      <th>2975</th>\n",
       "      <td>American Adobo</td>\n",
       "      <td>2001</td>\n",
       "      <td>344992.0</td>\n",
       "    </tr>\n",
       "    <tr>\n",
       "      <th>325</th>\n",
       "      <td>Prison</td>\n",
       "      <td>1987</td>\n",
       "      <td>345704.0</td>\n",
       "    </tr>\n",
       "    <tr>\n",
       "      <th>1047</th>\n",
       "      <td>Two Evil Eyes</td>\n",
       "      <td>1990</td>\n",
       "      <td>349618.0</td>\n",
       "    </tr>\n",
       "    <tr>\n",
       "      <th>1393</th>\n",
       "      <td>Everybody Wants to Be Italian</td>\n",
       "      <td>2007</td>\n",
       "      <td>351416.0</td>\n",
       "    </tr>\n",
       "  </tbody>\n",
       "</table>\n",
       "<p>500 rows × 3 columns</p>\n",
       "</div>"
      ],
      "text/plain": [
       "                              Title  Year  BoxOffice\n",
       "2153               The King of Pigs  2011       13.0\n",
       "3506                     Windwalker  1980       18.0\n",
       "889                   The Immortals  1995       83.0\n",
       "1567               The Pornographer  2001      126.0\n",
       "2422                       Playback  2012      264.0\n",
       "...                             ...   ...        ...\n",
       "3188                           Koch  2012   342941.0\n",
       "2975                 American Adobo  2001   344992.0\n",
       "325                          Prison  1987   345704.0\n",
       "1047                  Two Evil Eyes  1990   349618.0\n",
       "1393  Everybody Wants to Be Italian  2007   351416.0\n",
       "\n",
       "[500 rows x 3 columns]"
      ]
     },
     "metadata": {},
     "output_type": "display_data"
    }
   ],
   "source": [
    "print(\"Top 5 movies by BoxOffice:\")\n",
    "display(df.nlargest(5, \"BoxOffice\")[[\"Title\",\"Year\",\"BoxOffice\"]])\n",
    "\n",
    "print(\"\\n5 lowest movies by BoxOffice:\")\n",
    "display(df.nsmallest(500, \"BoxOffice\")[[\"Title\",\"Year\",\"BoxOffice\"]])"
   ]
  },
  {
   "cell_type": "code",
   "execution_count": 24,
   "id": "8a2d2460",
   "metadata": {},
   "outputs": [
    {
     "name": "stdout",
     "output_type": "stream",
     "text": [
      "Table of Frequencies: top 10 genres\n"
     ]
    },
    {
     "data": {
      "application/vnd.microsoft.datawrangler.viewer.v0+json": {
       "columns": [
        {
         "name": "Genre_list",
         "rawType": "object",
         "type": "string"
        },
        {
         "name": "count",
         "rawType": "int64",
         "type": "integer"
        }
       ],
       "ref": "4c87c8f4-c3fd-4bf7-a76c-95e16c21778b",
       "rows": [
        [
         "Drama",
         "2310"
        ],
        [
         "Comedy",
         "1588"
        ],
        [
         "Action",
         "1109"
        ],
        [
         "Adventure",
         "828"
        ],
        [
         "Crime",
         "796"
        ],
        [
         "Thriller",
         "691"
        ],
        [
         "Romance",
         "671"
        ],
        [
         "Horror",
         "564"
        ],
        [
         "Mystery",
         "369"
        ],
        [
         "Fantasy",
         "357"
        ]
       ],
       "shape": {
        "columns": 1,
        "rows": 10
       }
      },
      "text/plain": [
       "Genre_list\n",
       "Drama        2310\n",
       "Comedy       1588\n",
       "Action       1109\n",
       "Adventure     828\n",
       "Crime         796\n",
       "Thriller      691\n",
       "Romance       671\n",
       "Horror        564\n",
       "Mystery       369\n",
       "Fantasy       357\n",
       "Name: count, dtype: int64"
      ]
     },
     "metadata": {},
     "output_type": "display_data"
    },
    {
     "name": "stdout",
     "output_type": "stream",
     "text": [
      "\n",
      "Table of Frequencies: top 10 directors by № of movies\n"
     ]
    },
    {
     "data": {
      "application/vnd.microsoft.datawrangler.viewer.v0+json": {
       "columns": [
        {
         "name": "Director",
         "rawType": "object",
         "type": "string"
        },
        {
         "name": "count",
         "rawType": "int64",
         "type": "integer"
        }
       ],
       "ref": "7ff5f6bc-a655-4e85-af21-e049863cd9df",
       "rows": [
        [
         "N/A",
         "119"
        ],
        [
         "Steven Spielberg",
         "17"
        ],
        [
         "Ridley Scott",
         "16"
        ],
        [
         "Martin Scorsese",
         "13"
        ],
        [
         "Woody Allen",
         "13"
        ],
        [
         "John Carpenter",
         "13"
        ],
        [
         "Michael Bay",
         "12"
        ],
        [
         "Tim Burton",
         "12"
        ],
        [
         "Ron Howard",
         "11"
        ],
        [
         "David Cronenberg",
         "11"
        ]
       ],
       "shape": {
        "columns": 1,
        "rows": 10
       }
      },
      "text/plain": [
       "Director\n",
       "N/A                 119\n",
       "Steven Spielberg     17\n",
       "Ridley Scott         16\n",
       "Martin Scorsese      13\n",
       "Woody Allen          13\n",
       "John Carpenter       13\n",
       "Michael Bay          12\n",
       "Tim Burton           12\n",
       "Ron Howard           11\n",
       "David Cronenberg     11\n",
       "Name: count, dtype: int64"
      ]
     },
     "metadata": {},
     "output_type": "display_data"
    }
   ],
   "source": [
    "df[\"Genre_list\"] = df[\"Genre\"].str.split(\", \")\n",
    "\n",
    "top_genres = (\n",
    "    df.explode(\"Genre_list\")[\"Genre_list\"]\n",
    "      .value_counts()\n",
    "      .head(10)\n",
    ")\n",
    "print(\"Table of Frequencies: top 10 genres\")\n",
    "display(top_genres)\n",
    "\n",
    "print(\"\\nTable of Frequencies: top 10 directors by № of movies\")\n",
    "display(df[\"Director\"].value_counts().head(10))"
   ]
  }
 ],
 "metadata": {
  "kernelspec": {
   "display_name": "ds_env",
   "language": "python",
   "name": "python3"
  },
  "language_info": {
   "codemirror_mode": {
    "name": "ipython",
    "version": 3
   },
   "file_extension": ".py",
   "mimetype": "text/x-python",
   "name": "python",
   "nbconvert_exporter": "python",
   "pygments_lexer": "ipython3",
   "version": "3.10.16"
  }
 },
 "nbformat": 4,
 "nbformat_minor": 5
}
