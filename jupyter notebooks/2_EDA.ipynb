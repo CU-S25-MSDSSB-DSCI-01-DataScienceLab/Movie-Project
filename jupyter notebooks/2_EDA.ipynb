{
 "cells": [
  {
   "cell_type": "markdown",
   "id": "0cec3ffb",
   "metadata": {},
   "source": [
    "EDA"
   ]
  },
  {
   "cell_type": "code",
   "execution_count": null,
   "id": "2e2cd9eb",
   "metadata": {
    "vscode": {
     "languageId": "plaintext"
    }
   },
   "outputs": [],
   "source": [
    "gfhfg"
   ]
  }
 ],
 "metadata": {
  "language_info": {
   "name": "python"
  }
 },
 "nbformat": 4,
 "nbformat_minor": 5
}
